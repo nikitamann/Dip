{
  "nbformat": 4,
  "nbformat_minor": 0,
  "metadata": {
    "colab": {
      "name": "perfect_matchings.ipynb",
      "provenance": [],
      "collapsed_sections": []
    },
    "kernelspec": {
      "name": "python3",
      "display_name": "Python 3"
    },
    "language_info": {
      "name": "python"
    }
  },
  "cells": [
    {
      "cell_type": "markdown",
      "source": [
        "# Graphs Creation"
      ],
      "metadata": {
        "id": "FAeok1I-9zm1"
      }
    },
    {
      "cell_type": "code",
      "source": [
        "# (1, 2) - 1-st pair\n",
        "# (1, 3) - 2-nd\n",
        "# (2, 3) - 3-rd"
      ],
      "metadata": {
        "id": "uriG7f5SDhqw"
      },
      "execution_count": null,
      "outputs": []
    },
    {
      "cell_type": "code",
      "source": [
        "def create_graph_descriptions(n, start_pair):\n",
        "    result = []\n",
        "    if n == 1: return [[start_pair]]\n",
        "    if start_pair == 3: s = [1, 2]\n",
        "    elif start_pair == 2: s = [1, 3]\n",
        "    else: s = [2, 3]\n",
        "    for elem in create_graph_descriptions(n-1, s[0]): result.append([start_pair] + elem)\n",
        "    for elem in create_graph_descriptions(n-1, s[1]): result.append([start_pair] + elem)\n",
        "    return result"
      ],
      "metadata": {
        "id": "9_K3batzDZBB"
      },
      "execution_count": null,
      "outputs": []
    },
    {
      "cell_type": "code",
      "source": [
        "def description_to_graph(d):\n",
        "    g = []\n",
        "    for i in range(len(d)):\n",
        "        if d[i] == 1: g.append([1, 2])\n",
        "        elif d[i] == 2: g.append([1, 3])\n",
        "        else: g.append([2, 3])\n",
        "    return g"
      ],
      "metadata": {
        "id": "TdU9JztJR5PP"
      },
      "execution_count": null,
      "outputs": []
    },
    {
      "cell_type": "code",
      "execution_count": null,
      "metadata": {
        "id": "X5ssFQ0s6p_t"
      },
      "outputs": [],
      "source": [
        "def create_graphs(n):\n",
        "    G = []\n",
        "    D = create_graph_descriptions(n, 1)\n",
        "    for d in D:\n",
        "        g = description_to_graph(d)\n",
        "        G.append(g)\n",
        "    return(G)"
      ]
    },
    {
      "cell_type": "code",
      "source": [
        "def print_graph(g):\n",
        "    a = \"*-\"\n",
        "    b = \"|-\"\n",
        "    c = \"--\"\n",
        "    d = \"| \"\n",
        "    e = \"  \"\n",
        "    R = [\"-\", \" \", \"-\", \" \", \"-\"]\n",
        "    for v in g:\n",
        "        if 1 not in v:\n",
        "            R[0] += c\n",
        "            R[1] += e\n",
        "            R[2] += a\n",
        "            R[3] += d\n",
        "            R[4] += a\n",
        "        elif 2 not in v:\n",
        "            R[0] += a\n",
        "            R[1] += d\n",
        "            R[2] += b\n",
        "            R[3] += d\n",
        "            R[4] += a\n",
        "        else:\n",
        "            R[0] += a\n",
        "            R[1] += d\n",
        "            R[2] += a\n",
        "            R[3] += e\n",
        "            R[4] += c\n",
        "    for r in R:\n",
        "        print(r)"
      ],
      "metadata": {
        "id": "lztsmmaqOAOW"
      },
      "execution_count": null,
      "outputs": []
    },
    {
      "cell_type": "code",
      "source": [
        "def add_edge(g, v1, v2):\n",
        "    if len(g[v1-1]) == 1:\n",
        "        g[v1-1][0] = v2\n",
        "        for i in range(len(g[v2-1])):\n",
        "            if g[v2-1][i] == 0:\n",
        "                g[v2-1][i] = v1\n",
        "                return g\n",
        "    if len(g[v2-1]) == 1:\n",
        "        g[v2-1][0] = v1\n",
        "        for i in range(len(g[v1-1])):\n",
        "            if g[v1-1][i] == 0:\n",
        "                g[v1-1][i] = v2\n",
        "                return g\n",
        "    for i in range(len(g[v1-1])):\n",
        "            if g[v1-1][i] == 0:\n",
        "                g[v1-1][i] = v2\n",
        "                for i in range(len(g[v2-1])):\n",
        "                    if g[v2-1][i] == 0:\n",
        "                        g[v2-1][i] = v1\n",
        "                        return g"
      ],
      "metadata": {
        "id": "3S57lj97WsaA"
      },
      "execution_count": null,
      "outputs": []
    },
    {
      "cell_type": "code",
      "source": [
        "def empty_list(n):\n",
        "    l = []\n",
        "    for i in range(3): l.append([0])\n",
        "    for i in range(2*n): l.append([0, 0, 0])\n",
        "    for i in range(3): l.append([0])\n",
        "    return l"
      ],
      "metadata": {
        "id": "VJDI_rtPto4G"
      },
      "execution_count": null,
      "outputs": []
    },
    {
      "cell_type": "code",
      "source": [
        "for i in range(2, 2):\n",
        "    print(\"a\")"
      ],
      "metadata": {
        "id": "_6lq-GP0mBcA"
      },
      "execution_count": null,
      "outputs": []
    },
    {
      "cell_type": "code",
      "source": [
        "def graph_to_list(g):\n",
        "    n = len(g)\n",
        "    if n == 1: return [[3], [4], [1, 4, 5], [2, 3, 6], [3], [4]]\n",
        "\n",
        "    graph = empty_list(n)\n",
        "\n",
        "    for i in range(n):\n",
        "        add_edge(graph, 4 + i*2, 5 + i*2)\n",
        "\n",
        "    if 1 not in g[0]:\n",
        "        add_edge(graph, 2, 4)\n",
        "        add_edge(graph, 3, 5)\n",
        "        add_edge(graph, 1, 6)\n",
        "    elif 2 not in g[0]:\n",
        "        add_edge(graph, 1, 4)\n",
        "        add_edge(graph, 3, 5)\n",
        "        if 1 in g[1]: add_edge(graph, 2, 7)\n",
        "        else: add_edge(graph, 2, 6)\n",
        "    else:\n",
        "        add_edge(graph, 1, 4)\n",
        "        add_edge(graph, 2, 5)\n",
        "        add_edge(graph, 3, 7)\n",
        "    \n",
        "    for i in range(1, n):\n",
        "        for v1 in g[i]:\n",
        "            for v2 in g[i-1]:\n",
        "                if v1 == v2:\n",
        "                    #print(i, v1, v2)\n",
        "                    if v1 == 1:\n",
        "                        add_edge(graph, 4 + 2 * (i-1), 4 + 2 * i)\n",
        "                        #print(\"added_edge:\", 4 + 2 * (i-1), 4 + 2 * i)\n",
        "                    if v1 == 3:\n",
        "                        add_edge(graph, 5 + 2 * (i-1), 5 + 2 * i)\n",
        "                        #print(\"added_edge:\", 5 + 2 * (i-1), 5 + 2 * i)\n",
        "                    if v1 == 2:\n",
        "                        if 1 in g[i-1]:\n",
        "                            add_edge(graph, 5 + 2 * (i-1), 4 + 2 * i)\n",
        "                            #print(\"added_edge_2_1:\", 5 + 2 * (i-1), 4 + 2 * i)\n",
        "                        else:\n",
        "                            add_edge(graph, 4 + 2 * (i-1), 5 + 2 * i)\n",
        "                            #print(\"added_edge_2_2:\", 4 + 2 * (i-1), 5 + 2 * i)\n",
        "    for i in range(2, n):\n",
        "        for v1 in g[i]:\n",
        "            for v2 in g[i-2]:\n",
        "                if v1 == v2:\n",
        "                    if v1 not in g[i-1]:\n",
        "                        #print(i, v1, v2)\n",
        "                        if v1 == 1: add_edge(graph, 4 + 2 * (i-2), 4 + 2 * i)\n",
        "                        if v1 == 3: add_edge(graph, 5 + 2 * (i-2), 5 + 2 * i)\n",
        "                        if v1 == 2:\n",
        "                            if 1 in g[i-2]:\n",
        "                                if 1 in g[i]: add_edge(graph, 5 + 2 * (i-2), 5 + 2 * i)\n",
        "                                else: add_edge(graph, 5 + 2 * (i-2), 4 + 2 * i)\n",
        "                            else:\n",
        "                                if 1 in g[i]: add_edge(graph, 4 + 2 * (i-2), 5 + 2 * i)\n",
        "                                else: add_edge(graph, 4 + 2 * (i-2), 4 + 2 * i)  \n",
        "\n",
        "    if 1 not in g[n-1]:\n",
        "        add_edge(graph, 2 + 2 * n, 5 + 2 * n)\n",
        "        add_edge(graph, 3 + 2 * n, 6 + 2 * n)\n",
        "        add_edge(graph, 2 * n, 4 + 2 * n)\n",
        "    elif 2 not in g[n-1]:\n",
        "        add_edge(graph, 2 + 2 * n, 4 + 2 * n)\n",
        "        add_edge(graph, 3 + 2 * n, 6 + 2 * n)\n",
        "        if 1 in g[n-2]: add_edge(graph, 1 + 2 * n, 5 + 2 * n)\n",
        "        else: add_edge(graph, 2 * n, 5 + 2 * n)\n",
        "    else:\n",
        "        add_edge(graph, 2 + 2 * n, 4 + 2 * n)\n",
        "        add_edge(graph, 3 + 2 * n, 5 + 2 * n)\n",
        "        add_edge(graph, 1 + 2 * n, 6 + 2 * n)\n",
        "    \n",
        "        \n",
        "    return graph"
      ],
      "metadata": {
        "id": "hOKd1rSOTNtZ"
      },
      "execution_count": null,
      "outputs": []
    },
    {
      "cell_type": "code",
      "source": [
        "def graphs(n):\n",
        "    G = create_graphs(n)\n",
        "    ans = []\n",
        "    for g in G:\n",
        "        ans.append(graph_to_list(g))\n",
        "    return ans"
      ],
      "metadata": {
        "id": "fdZDTipz-7Q0"
      },
      "execution_count": null,
      "outputs": []
    },
    {
      "cell_type": "code",
      "source": [
        "def edge_in_s(e, S):\n",
        "    if (e in S) or ([e[1], e[0]] in S): return True\n",
        "    return False"
      ],
      "metadata": {
        "id": "0BHyM158MdgK"
      },
      "execution_count": null,
      "outputs": []
    },
    {
      "cell_type": "code",
      "source": [
        "def edges(graph):\n",
        "    g = graph_to_list(graph)\n",
        "    edges = []\n",
        "    for i in range(len(g)):\n",
        "        for v in g[i]:\n",
        "            e = [min(i+1, v), max(i+1, v)]\n",
        "            if e not in edges: edges.append(e)\n",
        "    return edges"
      ],
      "metadata": {
        "id": "SpspObdgL9p7"
      },
      "execution_count": null,
      "outputs": []
    },
    {
      "cell_type": "code",
      "source": [
        "def neighbors(sub):\n",
        "    subs = []\n",
        "    pairs = [[1, 2], [2, 3], [1, 3]]\n",
        "    for p in pairs:\n",
        "        s1 = sub.copy()\n",
        "        s2 = [p]\n",
        "\n",
        "        new = []\n",
        "        if p != s1[-1]:\n",
        "            new += s1\n",
        "            new += s2\n",
        "        if len(new) > 0:\n",
        "            if new[0] == [1, 2]:\n",
        "                subs.append(new)\n",
        "\n",
        "        new = []\n",
        "        if p != s1[0]:\n",
        "            new += s2\n",
        "            new += s1\n",
        "        if len(new) > 0:\n",
        "            if new[0] == [1, 2]:\n",
        "                subs.append(new)\n",
        "            \n",
        "    return subs\n",
        "    #return False"
      ],
      "metadata": {
        "id": "kVB53i03BajR"
      },
      "execution_count": null,
      "outputs": []
    },
    {
      "cell_type": "code",
      "source": [
        "def sub_in_g(sub, g):\n",
        "    n1 = len(sub)\n",
        "    n2 = len(g)\n",
        "    #print(sub)\n",
        "    for i in range(n2 - n1 + 1):\n",
        "        s = g[i:n1+i]\n",
        "        #print(s)\n",
        "        if sub == s:\n",
        "            return True\n",
        "    return False"
      ],
      "metadata": {
        "id": "89H95dXAjUdJ"
      },
      "execution_count": null,
      "outputs": []
    },
    {
      "cell_type": "markdown",
      "source": [
        "# Perfect Matchings"
      ],
      "metadata": {
        "id": "WTsiV3JO9_ZE"
      }
    },
    {
      "cell_type": "code",
      "source": [
        "def next_v(n, v, checked):\n",
        "    for i in range(v, 4 + 2 * n):\n",
        "        if i+1 not in checked: return i+1\n",
        "    return -1"
      ],
      "metadata": {
        "id": "GGQvZ8vJu6Ev"
      },
      "execution_count": null,
      "outputs": []
    },
    {
      "cell_type": "code",
      "source": [
        "def all_matchings(n, g, v, checked):\n",
        "    matchings = [[]]\n",
        "    for vi in g[v-1]:\n",
        "        if vi not in checked:\n",
        "            new_checked = checked.copy()\n",
        "            new_checked.extend([v, vi])\n",
        "            next = next_v(n, v, new_checked)\n",
        "            if next == -1: matchings.append([[v, vi]])\n",
        "            else: \n",
        "                for matching in all_matchings(n, g, next, new_checked):\n",
        "                    matchings.append([[v, vi]] + matching)\n",
        "    return matchings"
      ],
      "metadata": {
        "id": "b4Agvm9Is5io"
      },
      "execution_count": null,
      "outputs": []
    },
    {
      "cell_type": "code",
      "source": [
        "def if_perfect(n, matching):\n",
        "    if len(matching) < n: return False\n",
        "    vertices = set()\n",
        "    for e in matching:\n",
        "        for v in e: vertices.add(v)\n",
        "    for i in range(3, 3 + 2*n):\n",
        "        if i+1 not in vertices: return False\n",
        "    if 0 in vertices: return False\n",
        "    return True"
      ],
      "metadata": {
        "id": "Lt3qeuO63Cgp"
      },
      "execution_count": null,
      "outputs": []
    },
    {
      "cell_type": "code",
      "source": [
        "def perfect_matchings(n, matchings):\n",
        "    perfect = []\n",
        "    for matching in matchings:\n",
        "        if if_perfect(n, matching): perfect.append(matching)\n",
        "    return perfect"
      ],
      "metadata": {
        "id": "AdMtd31b6GcT"
      },
      "execution_count": null,
      "outputs": []
    },
    {
      "cell_type": "code",
      "source": [
        "def PM(g):\n",
        "    return perfect_matchings(len(g), all_matchings(len(g), graph_to_list(g), 4, []))"
      ],
      "metadata": {
        "id": "CK6kHBfar6Si"
      },
      "execution_count": null,
      "outputs": []
    },
    {
      "cell_type": "markdown",
      "source": [
        "# Alternating Cycles"
      ],
      "metadata": {
        "id": "4pgbJ-Oc-KUb"
      }
    },
    {
      "cell_type": "code",
      "source": [
        "def in_s(s, v1, v2):\n",
        "    if ([v1, v2] in s) or ([v2, v1] in s): return 1\n",
        "    else: return -1"
      ],
      "metadata": {
        "id": "rYTU5lVwBwkd"
      },
      "execution_count": null,
      "outputs": []
    },
    {
      "cell_type": "code",
      "source": [
        "def alt_c(g, m, s, cur, prev_in_m, c_v, c_e):\n",
        "    paths = []\n",
        "    for v in g[cur-1]:\n",
        "        #print(cur, v)\n",
        "        if v not in c_v:\n",
        "            if in_s(c_e, cur, v) < 0:\n",
        "                check = in_s(m, cur, v)\n",
        "                if prev_in_m != in_s(m, cur, v):\n",
        "                    if v == s:\n",
        "                        paths.append([[cur, v]])\n",
        "                    else:\n",
        "                        new_c_e = c_e.copy()\n",
        "                        new_c_e = new_c_e + [[cur, v]]\n",
        "                        P = alt_c(g, m, s, v, check, c_v, new_c_e)\n",
        "                        for p in P:\n",
        "                            paths.append([[cur, v]]+p)\n",
        "                #else: print(\"prev_in_m == in_s\")\n",
        "            #else: print(\"[cur, v] in c_e\")\n",
        "        #else: print(\"v in c_v\")\n",
        "    return paths"
      ],
      "metadata": {
        "id": "aY8NcDOtMFAf"
      },
      "execution_count": null,
      "outputs": []
    },
    {
      "cell_type": "code",
      "source": [
        "def cycles(g, m):\n",
        "    n = len(g)\n",
        "    c_v = [1, 2, 3, n-2, n-1, n]\n",
        "    cycles = []\n",
        "    for i in range(4, n-2):\n",
        "        c = alt_c(g, m, i, i, 0, c_v, [])\n",
        "        c_v.append(i)\n",
        "        cycles += c\n",
        "    return cycles"
      ],
      "metadata": {
        "id": "fjXzhTUN1ml6"
      },
      "execution_count": null,
      "outputs": []
    },
    {
      "cell_type": "code",
      "source": [
        "def check_alternating(cycle, m):\n",
        "    n = len(cycle)\n",
        "    if n < 4:\n",
        "        #print(\"E1\", n)\n",
        "        return False\n",
        "    if n % 2 != 0:\n",
        "        #print(\"E2\", n)\n",
        "        return False\n",
        "    check = cycle[0] in m\n",
        "    for i in range(1, n):\n",
        "        c = (cycle[i] in m or [cycle[i][1], cycle[i][0]] in m)\n",
        "        if c == check:\n",
        "            #print(\"E3\", i)\n",
        "            return False\n",
        "        check = c\n",
        "    return True"
      ],
      "metadata": {
        "id": "xB3ZWN7F3-ZZ"
      },
      "execution_count": null,
      "outputs": []
    },
    {
      "cell_type": "code",
      "source": [
        "def is_disjoint(c1, c2):\n",
        "    set1 = set()\n",
        "    set2 = set()\n",
        "    for e in c1:\n",
        "        set1.add(e[0])\n",
        "        set1.add(e[1])\n",
        "    for e in c2:\n",
        "        set2.add(e[0])\n",
        "        set2.add(e[1])\n",
        "    for v in set2:\n",
        "        if v in set1: return False\n",
        "    return True"
      ],
      "metadata": {
        "id": "aG9ULtTqf7QZ"
      },
      "execution_count": null,
      "outputs": []
    },
    {
      "cell_type": "code",
      "source": [
        "def possible_add(C, cycle):\n",
        "    for c in C:\n",
        "        if not is_disjoint(c, cycle): return False\n",
        "    return True"
      ],
      "metadata": {
        "id": "wKvUTCqm-eWk"
      },
      "execution_count": null,
      "outputs": []
    },
    {
      "cell_type": "code",
      "source": [
        "def max_disjoint(max, C):\n",
        "    if len(C) == 0: return max\n",
        "    if possible_add(max, C[0]):\n",
        "        v1 = max_disjoint(max+[C[0]], C[1:])\n",
        "        v2 = max_disjoint(max, C[1:])\n",
        "        if len(v1) > len(v2): return v1\n",
        "        else: return v2\n",
        "    else: return max_disjoint(max, C[1:])"
      ],
      "metadata": {
        "id": "jfGKtkfZ9egl"
      },
      "execution_count": null,
      "outputs": []
    },
    {
      "cell_type": "code",
      "source": [
        "def m_alternating_cycles(graph, m):\n",
        "    g = graph_to_list(graph)\n",
        "    C = cycles(g, m)\n",
        "    ans = []\n",
        "    for c in C:\n",
        "        if check_alternating(c, m):\n",
        "            #print(c)\n",
        "            ans.append(c)\n",
        "    return max_disjoint([], ans)"
      ],
      "metadata": {
        "id": "HFjohnU67uQc"
      },
      "execution_count": null,
      "outputs": []
    },
    {
      "cell_type": "code",
      "source": [
        "def m_cycles_dist(g):\n",
        "    M = PM(g)\n",
        "    dist = []\n",
        "    for m in M:\n",
        "        dist.append([m, len(m_alternating_cycles(g, m))])\n",
        "    return(dist)"
      ],
      "metadata": {
        "id": "F6Qai7Ad8yj5"
      },
      "execution_count": null,
      "outputs": []
    },
    {
      "cell_type": "markdown",
      "source": [
        "#LP"
      ],
      "metadata": {
        "id": "CGTjP5mvL6_d"
      }
    },
    {
      "cell_type": "code",
      "source": [
        "!pip install scipy"
      ],
      "metadata": {
        "id": "HJSBssETUC5n",
        "colab": {
          "base_uri": "https://localhost:8080/"
        },
        "outputId": "bbd060dd-d034-4cff-af9c-961481306bc4"
      },
      "execution_count": null,
      "outputs": [
        {
          "output_type": "stream",
          "name": "stdout",
          "text": [
            "Requirement already satisfied: scipy in /usr/local/lib/python3.7/dist-packages (1.4.1)\n",
            "Requirement already satisfied: numpy>=1.13.3 in /usr/local/lib/python3.7/dist-packages (from scipy) (1.21.6)\n"
          ]
        }
      ]
    },
    {
      "cell_type": "code",
      "source": [
        "!pip install --upgrade scipy"
      ],
      "metadata": {
        "id": "kmwAC6EKUXsi",
        "colab": {
          "base_uri": "https://localhost:8080/"
        },
        "outputId": "f4fcda34-5f94-47c7-e85d-43387982a2d7"
      },
      "execution_count": null,
      "outputs": [
        {
          "output_type": "stream",
          "name": "stdout",
          "text": [
            "Requirement already satisfied: scipy in /usr/local/lib/python3.7/dist-packages (1.4.1)\n",
            "Collecting scipy\n",
            "  Downloading scipy-1.7.3-cp37-cp37m-manylinux_2_12_x86_64.manylinux2010_x86_64.whl (38.1 MB)\n",
            "\u001b[K     |████████████████████████████████| 38.1 MB 1.2 MB/s \n",
            "\u001b[?25hRequirement already satisfied: numpy<1.23.0,>=1.16.5 in /usr/local/lib/python3.7/dist-packages (from scipy) (1.21.6)\n",
            "Installing collected packages: scipy\n",
            "  Attempting uninstall: scipy\n",
            "    Found existing installation: scipy 1.4.1\n",
            "    Uninstalling scipy-1.4.1:\n",
            "      Successfully uninstalled scipy-1.4.1\n",
            "\u001b[31mERROR: pip's dependency resolver does not currently take into account all the packages that are installed. This behaviour is the source of the following dependency conflicts.\n",
            "albumentations 0.1.12 requires imgaug<0.2.7,>=0.2.5, but you have imgaug 0.2.9 which is incompatible.\u001b[0m\n",
            "Successfully installed scipy-1.7.3\n"
          ]
        }
      ]
    },
    {
      "cell_type": "code",
      "source": [
        "from scipy.optimize import linprog"
      ],
      "metadata": {
        "id": "ynNS7DAjU7dI"
      },
      "execution_count": null,
      "outputs": []
    },
    {
      "cell_type": "code",
      "source": [
        "def solve_lp_burl(g):\n",
        "    dist = m_cycles_dist(g)\n",
        "    E = edges(g)\n",
        "\n",
        "    c = [dist[i][1] for i in range(len(dist))]\n",
        "    bounds = [(0, 1) for i in range(len(dist))]\n",
        "\n",
        "    v1 = [1 for i in range(len(dist))]\n",
        "    A_eq = []\n",
        "    A_eq.append(v1)\n",
        "    for i in range(len(E)):\n",
        "        vj = []\n",
        "        for elem in dist:\n",
        "            if edge_in_s(E[i], elem[0]):\n",
        "                vj.append(1)\n",
        "            else: vj.append(0)\n",
        "        #print(vj)\n",
        "        A_eq.append(vj)\n",
        "    \n",
        "    b_eq = [1/3 for i in range(len(A_eq))]\n",
        "    b_eq[0] = 1\n",
        "\n",
        "    res = linprog(c, A_eq=A_eq, b_eq=b_eq, bounds=bounds)\n",
        "    return res"
      ],
      "metadata": {
        "id": "_gDT2Lohl_Ta"
      },
      "execution_count": null,
      "outputs": []
    },
    {
      "cell_type": "code",
      "source": [
        "import numpy as np"
      ],
      "metadata": {
        "id": "rDziQIsLezAK"
      },
      "execution_count": null,
      "outputs": []
    },
    {
      "cell_type": "code",
      "source": [
        "def solve_with_dual(g):\n",
        "    dist = m_cycles_dist(g)\n",
        "    E = edges(g)\n",
        "\n",
        "    c = [dist[i][1] for i in range(len(dist))]\n",
        "    bounds = [(0, 1) for i in range(len(dist))]\n",
        "\n",
        "    v1 = [1 for i in range(len(dist))]\n",
        "    A_eq = []\n",
        "    A_eq.append(v1)\n",
        "    for i in range(len(E)):\n",
        "        vj = []\n",
        "        for elem in dist:\n",
        "            if edge_in_s(E[i], elem[0]):\n",
        "                vj.append(1)\n",
        "            else: vj.append(0)\n",
        "        #print(vj)\n",
        "        A_eq.append(vj)\n",
        "    \n",
        "    b_eq = [1/3 for i in range(len(A_eq))]\n",
        "    b_eq[0] = 1\n",
        "\n",
        "    res = linprog(c, A_eq=A_eq, b_eq=b_eq, bounds=bounds)\n",
        "\n",
        "    A_d = np.transpose(A_eq)\n",
        "    b_d = np.transpose(c)\n",
        "    c_d = np.transpose(b_eq)\n",
        "    c_d *= -1\n",
        "\n",
        "    res2 = linprog(c_d, A_ub=A_d, b_ub=b_d, bounds=(None, None))\n",
        "    return res, res2"
      ],
      "metadata": {
        "id": "uFrk18pMeozY"
      },
      "execution_count": null,
      "outputs": []
    },
    {
      "cell_type": "code",
      "source": [
        "solve_lp_burl([[1, 2], [1, 3], [2, 3], [1, 2], [1, 3]])"
      ],
      "metadata": {
        "colab": {
          "base_uri": "https://localhost:8080/"
        },
        "id": "ARhByK9AhNio",
        "outputId": "111d48d4-6051-4f24-f349-243b1aab3feb"
      },
      "execution_count": null,
      "outputs": [
        {
          "output_type": "stream",
          "name": "stderr",
          "text": [
            "/usr/local/lib/python3.7/dist-packages/ipykernel_launcher.py:23: OptimizeWarning: A_eq does not appear to be of full row rank. To improve performance, check the problem formulation for redundant equality constraints.\n"
          ]
        },
        {
          "output_type": "execute_result",
          "data": {
            "text/plain": [
              "     con: array([-2.11475282e-12, -9.05109321e-13, -9.03055408e-13, -8.36553049e-13,\n",
              "       -5.72375480e-13, -6.37434550e-13, -6.39432951e-13, -6.40043574e-13,\n",
              "       -8.37385716e-13, -6.38322728e-13, -8.36386516e-13, -6.39044373e-13,\n",
              "       -6.40099085e-13, -6.38766817e-13, -6.38766817e-13, -8.37108161e-13,\n",
              "       -5.72375480e-13, -9.03666031e-13, -9.02278252e-13])\n",
              "     fun: 0.33333333333528914\n",
              " message: 'Optimization terminated successfully.'\n",
              "     nit: 6\n",
              "   slack: array([], dtype=float64)\n",
              "  status: 0\n",
              " success: True\n",
              "       x: array([8.13826172e-02, 4.15975775e-14, 2.09106686e-13, 6.16725458e-02,\n",
              "       2.87002517e-02, 8.01953009e-02, 2.09004052e-13, 8.13826177e-02,\n",
              "       4.15975775e-14, 4.15975775e-14, 3.83470522e-15, 1.91008590e-13,\n",
              "       5.34617456e-14, 8.01953009e-02, 7.02738856e-14, 1.90914839e-13,\n",
              "       4.15975775e-14, 3.83470522e-15, 1.90278170e-01, 2.44599816e-13,\n",
              "       6.28598621e-02, 2.09106686e-13, 1.91008590e-13, 2.09004052e-13,\n",
              "       1.90914839e-13, 6.28598626e-02, 2.44479762e-13, 1.90278170e-01,\n",
              "       2.44479762e-13, 1.85227551e-02, 6.16725458e-02, 5.34617456e-14,\n",
              "       2.44599816e-13])"
            ]
          },
          "metadata": {},
          "execution_count": 35
        }
      ]
    },
    {
      "cell_type": "code",
      "source": [
        "solve_with_dual([[1, 2], [1, 3], [2, 3], [1, 2], [1, 3]])"
      ],
      "metadata": {
        "colab": {
          "base_uri": "https://localhost:8080/"
        },
        "id": "U9YRJu2PhSkU",
        "outputId": "fb6c6a0a-fdf7-4e63-9521-548f77919493"
      },
      "execution_count": null,
      "outputs": [
        {
          "output_type": "stream",
          "name": "stderr",
          "text": [
            "/usr/local/lib/python3.7/dist-packages/ipykernel_launcher.py:23: OptimizeWarning: A_eq does not appear to be of full row rank. To improve performance, check the problem formulation for redundant equality constraints.\n"
          ]
        },
        {
          "output_type": "execute_result",
          "data": {
            "text/plain": [
              "(     con: array([-2.11475282e-12, -9.05109321e-13, -9.03055408e-13, -8.36553049e-13,\n",
              "       -5.72375480e-13, -6.37434550e-13, -6.39432951e-13, -6.40043574e-13,\n",
              "       -8.37385716e-13, -6.38322728e-13, -8.36386516e-13, -6.39044373e-13,\n",
              "       -6.40099085e-13, -6.38766817e-13, -6.38766817e-13, -8.37108161e-13,\n",
              "       -5.72375480e-13, -9.03666031e-13, -9.02278252e-13])\n",
              "     fun: 0.33333333333528914\n",
              " message: 'Optimization terminated successfully.'\n",
              "     nit: 6\n",
              "   slack: array([], dtype=float64)\n",
              "  status: 0\n",
              " success: True\n",
              "       x: array([8.13826172e-02, 4.15975775e-14, 2.09106686e-13, 6.16725458e-02,\n",
              "       2.87002517e-02, 8.01953009e-02, 2.09004052e-13, 8.13826177e-02,\n",
              "       4.15975775e-14, 4.15975775e-14, 3.83470522e-15, 1.91008590e-13,\n",
              "       5.34617456e-14, 8.01953009e-02, 7.02738856e-14, 1.90914839e-13,\n",
              "       4.15975775e-14, 3.83470522e-15, 1.90278170e-01, 2.44599816e-13,\n",
              "       6.28598621e-02, 2.09106686e-13, 1.91008590e-13, 2.09004052e-13,\n",
              "       1.90914839e-13, 6.28598626e-02, 2.44479762e-13, 1.90278170e-01,\n",
              "       2.44479762e-13, 1.85227551e-02, 6.16725458e-02, 5.34617456e-14,\n",
              "       2.44599816e-13]),\n",
              "      con: array([], dtype=float64)\n",
              "     fun: -0.33333333318497327\n",
              " message: 'Optimization terminated successfully.'\n",
              "     nit: 5\n",
              "   slack: array([8.56281712e-12, 1.00000000e+00, 5.00000000e-01, 2.72772249e-10,\n",
              "       3.52930796e-10, 1.26235855e-10, 5.00000000e-01, 8.56892335e-12,\n",
              "       1.00000000e+00, 1.00000000e+00, 2.00000000e+00, 5.00000000e-01,\n",
              "       1.00000000e+00, 1.26223032e-10, 1.00000000e+00, 5.00000000e-01,\n",
              "       1.00000000e+00, 2.00000000e+00, 4.60776417e-11, 5.00000000e-01,\n",
              "       3.90445620e-10, 5.00000000e-01, 5.00000000e-01, 5.00000000e-01,\n",
              "       5.00000000e-01, 3.90433574e-10, 5.00000000e-01, 4.60717020e-11,\n",
              "       5.00000000e-01, 8.81351103e-10, 2.72779799e-10, 1.00000000e+00,\n",
              "       5.00000000e-01])\n",
              "  status: 0\n",
              " success: True\n",
              "       x: array([ 0.20903364, -0.31375221, -0.31375221,  0.06586279,  0.37249559,\n",
              "        0.1648102 ,  0.1648102 ,  0.04442519, -0.0428752 ,  0.04442519,\n",
              "       -0.0428752 ,  0.04442519,  0.1648102 ,  0.04442519,  0.1648102 ,\n",
              "        0.06586279,  0.37249559, -0.31375221, -0.31375221]))"
            ]
          },
          "metadata": {},
          "execution_count": 41
        }
      ]
    },
    {
      "cell_type": "code",
      "source": [
        "graph_to_list([[1, 2], [1, 3], [2, 3], [1, 2], [1, 3]])"
      ],
      "metadata": {
        "colab": {
          "base_uri": "https://localhost:8080/"
        },
        "id": "Z2HcX3qLjO6D",
        "outputId": "e11f410b-59ba-47f3-983e-6aa610e17fa1"
      },
      "execution_count": null,
      "outputs": [
        {
          "output_type": "execute_result",
          "data": {
            "text/plain": [
              "[[4],\n",
              " [5],\n",
              " [7],\n",
              " [5, 1, 6],\n",
              " [4, 2, 8],\n",
              " [7, 4, 10],\n",
              " [6, 3, 9],\n",
              " [9, 11, 5],\n",
              " [8, 7, 13],\n",
              " [11, 12, 6],\n",
              " [10, 8, 15],\n",
              " [13, 10, 14],\n",
              " [12, 9, 16],\n",
              " [12],\n",
              " [11],\n",
              " [13]]"
            ]
          },
          "metadata": {},
          "execution_count": 42
        }
      ]
    },
    {
      "cell_type": "markdown",
      "source": [
        "# Main"
      ],
      "metadata": {
        "id": "7Mh8CZSPsQ_A"
      }
    },
    {
      "cell_type": "code",
      "source": [
        "Basic_Structures = []\n",
        "\n",
        "GR = []\n",
        "\n",
        "for i in range(5, 10):\n",
        "    for g in create_graphs(i):\n",
        "        check = False\n",
        "        for s in Basic_Structures:\n",
        "            if sub_in_g(s, g):\n",
        "                check = True\n",
        "                continue\n",
        "        if not check:\n",
        "            res = solve_lp_burl(g)\n",
        "            if res.fun >= 1/3:\n",
        "                Basic_Structures.append(g)\n",
        "                print(res.fun)\n",
        "                print_graph(g)\n",
        "            else: GR.append(g)"
      ],
      "metadata": {
        "id": "Lfv3lQJOqCG5",
        "colab": {
          "base_uri": "https://localhost:8080/"
        },
        "outputId": "06451984-2e76-488e-96ef-74715a8524b3"
      },
      "execution_count": null,
      "outputs": [
        {
          "output_type": "stream",
          "name": "stderr",
          "text": [
            "/usr/local/lib/python3.7/dist-packages/ipykernel_launcher.py:23: OptimizeWarning: A_eq does not appear to be of full row rank. To improve performance, check the problem formulation for redundant equality constraints.\n",
            "/usr/local/lib/python3.7/dist-packages/ipykernel_launcher.py:23: OptimizeWarning: Solving system with option 'cholesky':True failed. It is normal for this to happen occasionally, especially as the solution is approached. However, if you see this frequently, consider setting option 'cholesky' to False.\n",
            "/usr/local/lib/python3.7/dist-packages/ipykernel_launcher.py:23: OptimizeWarning: Solving system with option 'sym_pos':True failed. It is normal for this to happen occasionally, especially as the solution is approached. However, if you see this frequently, consider setting option 'sym_pos' to False.\n",
            "/usr/local/lib/python3.7/dist-packages/scipy/optimize/_linprog_ip.py:117: LinAlgWarning: Ill-conditioned matrix (rcond=1.33406e-18): result may not be accurate.\n",
            "  return sp.linalg.solve(M, r, sym_pos=sym_pos)\n",
            "/usr/local/lib/python3.7/dist-packages/scipy/optimize/_linprog_ip.py:117: LinAlgWarning: Ill-conditioned matrix (rcond=6.3139e-19): result may not be accurate.\n",
            "  return sp.linalg.solve(M, r, sym_pos=sym_pos)\n",
            "/usr/local/lib/python3.7/dist-packages/scipy/optimize/_linprog_ip.py:117: LinAlgWarning: Ill-conditioned matrix (rcond=7.78683e-19): result may not be accurate.\n",
            "  return sp.linalg.solve(M, r, sym_pos=sym_pos)\n",
            "/usr/local/lib/python3.7/dist-packages/scipy/optimize/_linprog_ip.py:117: LinAlgWarning: Ill-conditioned matrix (rcond=1.92656e-18): result may not be accurate.\n",
            "  return sp.linalg.solve(M, r, sym_pos=sym_pos)\n"
          ]
        },
        {
          "output_type": "stream",
          "name": "stdout",
          "text": [
            "0.33333333333528914\n",
            "-*-*---*-*-\n",
            " | |   | | \n",
            "-*-|-*-*-|-\n",
            "   | |   | \n",
            "---*-*---*-\n",
            "0.33333333333529075\n",
            "-*---*-*---\n",
            " |   | |   \n",
            "-*-*-|-*-*-\n",
            "   | |   | \n",
            "---*-*---*-\n"
          ]
        },
        {
          "output_type": "stream",
          "name": "stderr",
          "text": [
            "/usr/local/lib/python3.7/dist-packages/scipy/optimize/_linprog_ip.py:117: LinAlgWarning: Ill-conditioned matrix (rcond=2.75645e-18): result may not be accurate.\n",
            "  return sp.linalg.solve(M, r, sym_pos=sym_pos)\n"
          ]
        },
        {
          "output_type": "stream",
          "name": "stdout",
          "text": [
            "0.3333333333362386\n",
            "-*-*-*-*-*---\n",
            " | | | | |   \n",
            "-*-|-*-|-*-*-\n",
            "   |   |   | \n",
            "---*---*---*-\n",
            "0.33333333333401705\n",
            "-*-*-*---*-*-\n",
            " | | |   | | \n",
            "-*-|-*-*-*-|-\n",
            "   |   |   | \n",
            "---*---*---*-\n",
            "0.3333333333778189\n",
            "-*-*-*---*-*-\n",
            " | | |   | | \n",
            "-*-|-*-*-|-*-\n",
            "   |   | |   \n",
            "---*---*-*---\n",
            "0.33333333333401616\n",
            "-*-*---*-*-*-\n",
            " | |   | | | \n",
            "-*-|-*-|-*-|-\n",
            "   | | |   | \n",
            "---*-*-*---*-\n",
            "0.3333333333362575\n",
            "-*-*---*---*-\n",
            " | |   |   | \n",
            "-*-|-*-|-*-|-\n",
            "   | | | | | \n",
            "---*-*-*-*-*-\n",
            "0.33333333333401777\n",
            "-*---*-*-*---\n",
            " |   | | |   \n",
            "-*-*-*-|-*-*-\n",
            "   |   |   | \n",
            "---*---*---*-\n",
            "0.3333333333778191\n",
            "-*---*-*---*-\n",
            " |   | |   | \n",
            "-*-*-*-|-*-*-\n",
            "   |   | |   \n",
            "---*---*-*---\n",
            "0.33333333333623805\n",
            "-*---*---*-*-\n",
            " |   |   | | \n",
            "-*-*-*-*-*-|-\n",
            "   |   |   | \n",
            "---*---*---*-\n",
            "0.3333333333340143\n",
            "-*---*---*---\n",
            " |   |   |   \n",
            "-*-*-|-*-*-*-\n",
            "   | | |   | \n",
            "---*-*-*---*-\n",
            "0.33333333333629456\n",
            "-*---*---*---\n",
            " |   |   |   \n",
            "-*-*-|-*-|-*-\n",
            "   | | | | | \n",
            "---*-*-*-*-*-\n"
          ]
        },
        {
          "output_type": "stream",
          "name": "stderr",
          "text": [
            "/usr/local/lib/python3.7/dist-packages/scipy/optimize/_linprog_ip.py:117: LinAlgWarning: Ill-conditioned matrix (rcond=4.00232e-18): result may not be accurate.\n",
            "  return sp.linalg.solve(M, r, sym_pos=sym_pos)\n"
          ]
        },
        {
          "output_type": "stream",
          "name": "stdout",
          "text": [
            "0.3333333333792817\n",
            "-*-*-*-*-*-*---\n",
            " | | | | | |   \n",
            "-*-|-*-|-*-|-*-\n",
            "   |   |   | | \n",
            "---*---*---*-*-\n",
            "0.3333333334120143\n",
            "-*-*-*-*---*-*-\n",
            " | | | |   | | \n",
            "-*-|-*-|-*-|-*-\n",
            "   |   | | |   \n",
            "---*---*-*-*---\n",
            "0.333333333355194\n",
            "-*-*-*---*---*-\n",
            " | | |   |   | \n",
            "-*-|-*-*-*-*-*-\n",
            "   |   |   |   \n",
            "---*---*---*---\n"
          ]
        },
        {
          "output_type": "stream",
          "name": "stderr",
          "text": [
            "/usr/local/lib/python3.7/dist-packages/scipy/optimize/_linprog_ip.py:117: LinAlgWarning: Ill-conditioned matrix (rcond=8.15415e-19): result may not be accurate.\n",
            "  return sp.linalg.solve(M, r, sym_pos=sym_pos)\n"
          ]
        },
        {
          "output_type": "stream",
          "name": "stdout",
          "text": [
            "0.3333333348479405\n",
            "-*-*-*---*---*-\n",
            " | | |   |   | \n",
            "-*-|-*-*-*-*-|-\n",
            "   |   |   | | \n",
            "---*---*---*-*-\n"
          ]
        },
        {
          "output_type": "stream",
          "name": "stderr",
          "text": [
            "/usr/local/lib/python3.7/dist-packages/scipy/optimize/_linprog_ip.py:117: LinAlgWarning: Ill-conditioned matrix (rcond=3.26041e-19): result may not be accurate.\n",
            "  return sp.linalg.solve(M, r, sym_pos=sym_pos)\n",
            "/usr/local/lib/python3.7/dist-packages/ipykernel_launcher.py:23: OptimizeWarning: Solving system with option 'sym_pos':False failed. This may happen occasionally, especially as the solution is approached. However, if you see this frequently, your problem may be numerically challenging. If you cannot improve the formulation, consider setting 'lstsq' to True. Consider also setting `presolve` to True, if it is not already.\n"
          ]
        },
        {
          "output_type": "stream",
          "name": "stdout",
          "text": [
            "0.3333333333340209\n",
            "-*-*---*---*---\n",
            " | |   |   |   \n",
            "-*-|-*-*-*-*-*-\n",
            "   | |   |   | \n",
            "---*-*---*---*-\n"
          ]
        },
        {
          "output_type": "stream",
          "name": "stderr",
          "text": [
            "/usr/local/lib/python3.7/dist-packages/scipy/optimize/_linprog_ip.py:117: LinAlgWarning: Ill-conditioned matrix (rcond=2.24146e-19): result may not be accurate.\n",
            "  return sp.linalg.solve(M, r, sym_pos=sym_pos)\n",
            "/usr/local/lib/python3.7/dist-packages/scipy/optimize/_linprog_ip.py:117: LinAlgWarning: Ill-conditioned matrix (rcond=1.18234e-18): result may not be accurate.\n",
            "  return sp.linalg.solve(M, r, sym_pos=sym_pos)\n"
          ]
        },
        {
          "output_type": "stream",
          "name": "stdout",
          "text": [
            "0.3333333333345304\n",
            "-*-*---*---*---\n",
            " | |   |   |   \n",
            "-*-|-*-*-*-|-*-\n",
            "   | |   | | | \n",
            "---*-*---*-*-*-\n"
          ]
        },
        {
          "output_type": "stream",
          "name": "stderr",
          "text": [
            "/usr/local/lib/python3.7/dist-packages/scipy/optimize/_linprog_ip.py:117: LinAlgWarning: Ill-conditioned matrix (rcond=6.67019e-19): result may not be accurate.\n",
            "  return sp.linalg.solve(M, r, sym_pos=sym_pos)\n",
            "/usr/local/lib/python3.7/dist-packages/scipy/optimize/_linprog_ip.py:117: LinAlgWarning: Ill-conditioned matrix (rcond=7.38755e-18): result may not be accurate.\n",
            "  return sp.linalg.solve(M, r, sym_pos=sym_pos)\n"
          ]
        },
        {
          "output_type": "stream",
          "name": "stdout",
          "text": [
            "0.3333333333348331\n",
            "-*-*---*-*---*-\n",
            " | |   | |   | \n",
            "-*-|-*-|-*-*-|-\n",
            "   | | |   | | \n",
            "---*-*-*---*-*-\n",
            "0.3333333348479407\n",
            "-*-*---*---*---\n",
            " | |   |   |   \n",
            "-*-|-*-|-*-*-*-\n",
            "   | | | |   | \n",
            "---*-*-*-*---*-\n",
            "0.33333333335518966\n",
            "-*---*-*-*-*-*-\n",
            " |   | | | | | \n",
            "-*-*-*-|-*-|-*-\n",
            "   |   |   |   \n",
            "---*---*---*---\n",
            "0.3333333348479407\n",
            "-*---*-*-*-*---\n",
            " |   | | | |   \n",
            "-*-*-*-|-*-|-*-\n",
            "   |   |   | | \n",
            "---*---*---*-*-\n"
          ]
        },
        {
          "output_type": "stream",
          "name": "stderr",
          "text": [
            "/usr/local/lib/python3.7/dist-packages/scipy/optimize/_linprog_ip.py:117: LinAlgWarning: Ill-conditioned matrix (rcond=3.27423e-18): result may not be accurate.\n",
            "  return sp.linalg.solve(M, r, sym_pos=sym_pos)\n"
          ]
        },
        {
          "output_type": "stream",
          "name": "stdout",
          "text": [
            "0.3333333333792828\n",
            "-*---*---*---*-\n",
            " |   |   |   | \n",
            "-*-*-*-*-*-*-|-\n",
            "   |   |   | | \n",
            "---*---*---*-*-\n",
            "0.33333333341201504\n",
            "-*---*---*---*-\n",
            " |   |   |   | \n",
            "-*-*-*-*-|-*-*-\n",
            "   |   | | |   \n",
            "---*---*-*-*---\n",
            "0.3333333333340213\n",
            "-*---*-*-*-*-*-\n",
            " |   | | | | | \n",
            "-*-*-|-*-|-*-|-\n",
            "   | |   |   | \n",
            "---*-*---*---*-\n"
          ]
        },
        {
          "output_type": "stream",
          "name": "stderr",
          "text": [
            "/usr/local/lib/python3.7/dist-packages/scipy/optimize/_linprog_ip.py:117: LinAlgWarning: Ill-conditioned matrix (rcond=1.04375e-19): result may not be accurate.\n",
            "  return sp.linalg.solve(M, r, sym_pos=sym_pos)\n",
            "/usr/local/lib/python3.7/dist-packages/scipy/optimize/_linprog_ip.py:117: LinAlgWarning: Ill-conditioned matrix (rcond=3.25968e-18): result may not be accurate.\n",
            "  return sp.linalg.solve(M, r, sym_pos=sym_pos)\n",
            "/usr/local/lib/python3.7/dist-packages/scipy/optimize/_linprog_ip.py:117: LinAlgWarning: Ill-conditioned matrix (rcond=8.67932e-19): result may not be accurate.\n",
            "  return sp.linalg.solve(M, r, sym_pos=sym_pos)\n",
            "/usr/local/lib/python3.7/dist-packages/scipy/optimize/_linprog_ip.py:117: LinAlgWarning: Ill-conditioned matrix (rcond=1.86188e-19): result may not be accurate.\n",
            "  return sp.linalg.solve(M, r, sym_pos=sym_pos)\n"
          ]
        },
        {
          "output_type": "stream",
          "name": "stdout",
          "text": [
            "0.33333333333453313\n",
            "-*---*-*-*---*-\n",
            " |   | | |   | \n",
            "-*-*-|-*-|-*-|-\n",
            "   | |   | | | \n",
            "---*-*---*-*-*-\n",
            "0.33333333333712467\n",
            "-*---*---*-*---\n",
            " |   |   | |   \n",
            "-*-*-|-*-*-|-*-\n",
            "   | | |   | | \n",
            "---*-*-*---*-*-\n",
            "0.33333333484794053\n",
            "-*---*---*-*-*-\n",
            " |   |   | | | \n",
            "-*-*-|-*-|-*-|-\n",
            "   | | | |   | \n",
            "---*-*-*-*---*-\n"
          ]
        },
        {
          "output_type": "stream",
          "name": "stderr",
          "text": [
            "/usr/local/lib/python3.7/dist-packages/scipy/optimize/_linprog_ip.py:117: LinAlgWarning: Ill-conditioned matrix (rcond=5.24369e-18): result may not be accurate.\n",
            "  return sp.linalg.solve(M, r, sym_pos=sym_pos)\n",
            "/usr/local/lib/python3.7/dist-packages/scipy/optimize/_linprog_ip.py:117: LinAlgWarning: Ill-conditioned matrix (rcond=1.05686e-18): result may not be accurate.\n",
            "  return sp.linalg.solve(M, r, sym_pos=sym_pos)\n"
          ]
        },
        {
          "output_type": "stream",
          "name": "stdout",
          "text": [
            "0.33333333357478634\n",
            "-*-*-*-*---*---*-\n",
            " | | | |   |   | \n",
            "-*-|-*-|-*-*-*-|-\n",
            "   |   | |   | | \n",
            "---*---*-*---*-*-\n",
            "0.3333333333516724\n",
            "-*-*-*-*---*---*-\n",
            " | | | |   |   | \n",
            "-*-|-*-|-*-|-*-*-\n",
            "   |   | | | |   \n",
            "---*---*-*-*-*---\n",
            "0.3333333333476327\n",
            "-*-*-*---*---*-*-\n",
            " | | |   |   | | \n",
            "-*-|-*-*-|-*-*-|-\n",
            "   |   | | |   | \n",
            "---*---*-*-*---*-\n",
            "0.33333333334728094\n",
            "-*-*-*---*---*-*-\n",
            " | | |   |   | | \n",
            "-*-|-*-*-|-*-|-*-\n",
            "   |   | | | |   \n",
            "---*---*-*-*-*---\n"
          ]
        },
        {
          "output_type": "stream",
          "name": "stderr",
          "text": [
            "/usr/local/lib/python3.7/dist-packages/scipy/optimize/_linprog_ip.py:117: LinAlgWarning: Ill-conditioned matrix (rcond=2.47229e-19): result may not be accurate.\n",
            "  return sp.linalg.solve(M, r, sym_pos=sym_pos)\n"
          ]
        },
        {
          "output_type": "stream",
          "name": "stdout",
          "text": [
            "0.33333333333479026\n",
            "-*-*---*---*-*-*-\n",
            " | |   |   | | | \n",
            "-*-|-*-*-*-*-|-*-\n",
            "   | |   |   |   \n",
            "---*-*---*---*---\n"
          ]
        },
        {
          "output_type": "stream",
          "name": "stderr",
          "text": [
            "/usr/local/lib/python3.7/dist-packages/scipy/optimize/_linprog_ip.py:117: LinAlgWarning: Ill-conditioned matrix (rcond=3.19459e-19): result may not be accurate.\n",
            "  return sp.linalg.solve(M, r, sym_pos=sym_pos)\n"
          ]
        },
        {
          "output_type": "stream",
          "name": "stdout",
          "text": [
            "0.33333333334122267\n",
            "-*-*---*---*-*---\n",
            " | |   |   | |   \n",
            "-*-|-*-*-*-*-|-*-\n",
            "   | |   |   | | \n",
            "---*-*---*---*-*-\n",
            "0.3333333333476028\n",
            "-*-*---*---*-*-*-\n",
            " | |   |   | | | \n",
            "-*-|-*-*-*-|-*-|-\n",
            "   | |   | |   | \n",
            "---*-*---*-*---*-\n"
          ]
        },
        {
          "output_type": "stream",
          "name": "stderr",
          "text": [
            "/usr/local/lib/python3.7/dist-packages/scipy/optimize/_linprog_ip.py:117: LinAlgWarning: Ill-conditioned matrix (rcond=4.13574e-20): result may not be accurate.\n",
            "  return sp.linalg.solve(M, r, sym_pos=sym_pos)\n"
          ]
        },
        {
          "output_type": "stream",
          "name": "stdout",
          "text": [
            "0.33333333357478473\n",
            "-*-*---*-*---*---\n",
            " | |   | |   |   \n",
            "-*-|-*-|-*-*-*-*-\n",
            "   | | |   |   | \n",
            "---*-*-*---*---*-\n",
            "0.3333333333472808\n",
            "-*-*---*---*-*-*-\n",
            " | |   |   | | | \n",
            "-*-|-*-|-*-*-|-*-\n",
            "   | | | |   |   \n",
            "---*-*-*-*---*---\n",
            "0.33333333379923213\n",
            "-*-*---*---*-*---\n",
            " | |   |   | |   \n",
            "-*-|-*-|-*-*-|-*-\n",
            "   | | | |   | | \n",
            "---*-*-*-*---*-*-\n",
            "0.33333333334761456\n",
            "-*---*-*---*-*---\n",
            " |   | |   | |   \n",
            "-*-*-*-|-*-|-*-*-\n",
            "   |   | | |   | \n",
            "---*---*-*-*---*-\n",
            "0.33333333334728354\n",
            "-*---*-*---*---*-\n",
            " |   | |   |   | \n",
            "-*-*-*-|-*-|-*-*-\n",
            "   |   | | | |   \n",
            "---*---*-*-*-*---\n"
          ]
        },
        {
          "output_type": "stream",
          "name": "stderr",
          "text": [
            "/usr/local/lib/python3.7/dist-packages/scipy/optimize/_linprog_ip.py:117: LinAlgWarning: Ill-conditioned matrix (rcond=9.90745e-19): result may not be accurate.\n",
            "  return sp.linalg.solve(M, r, sym_pos=sym_pos)\n",
            "/usr/local/lib/python3.7/dist-packages/scipy/optimize/_linprog_ip.py:117: LinAlgWarning: Ill-conditioned matrix (rcond=4.80136e-21): result may not be accurate.\n",
            "  return sp.linalg.solve(M, r, sym_pos=sym_pos)\n"
          ]
        },
        {
          "output_type": "stream",
          "name": "stdout",
          "text": [
            "0.3333333335747881\n",
            "-*---*---*-*-*---\n",
            " |   |   | | |   \n",
            "-*-*-*-*-|-*-|-*-\n",
            "   |   | |   | | \n",
            "---*---*-*---*-*-\n",
            "0.33333333335161197\n",
            "-*---*---*---*-*-\n",
            " |   |   |   | | \n",
            "-*-*-*-*-|-*-|-*-\n",
            "   |   | | | |   \n",
            "---*---*-*-*-*---\n"
          ]
        },
        {
          "output_type": "stream",
          "name": "stderr",
          "text": [
            "/usr/local/lib/python3.7/dist-packages/scipy/optimize/_linprog_ip.py:117: LinAlgWarning: Ill-conditioned matrix (rcond=2.30488e-18): result may not be accurate.\n",
            "  return sp.linalg.solve(M, r, sym_pos=sym_pos)\n"
          ]
        },
        {
          "output_type": "stream",
          "name": "stdout",
          "text": [
            "0.3333333333347858\n",
            "-*---*-*-*-*---*-\n",
            " |   | | | |   | \n",
            "-*-*-|-*-|-*-*-*-\n",
            "   | |   |   |   \n",
            "---*-*---*---*---\n"
          ]
        },
        {
          "output_type": "stream",
          "name": "stderr",
          "text": [
            "/usr/local/lib/python3.7/dist-packages/scipy/optimize/_linprog_ip.py:117: LinAlgWarning: Ill-conditioned matrix (rcond=1.39387e-18): result may not be accurate.\n",
            "  return sp.linalg.solve(M, r, sym_pos=sym_pos)\n"
          ]
        },
        {
          "output_type": "stream",
          "name": "stdout",
          "text": [
            "0.3333333333415878\n",
            "-*---*-*-*-*---*-\n",
            " |   | | | |   | \n",
            "-*-*-|-*-|-*-*-|-\n",
            "   | |   |   | | \n",
            "---*-*---*---*-*-\n",
            "0.3333333333476236\n",
            "-*---*-*-*---*---\n",
            " |   | | |   |   \n",
            "-*-*-|-*-|-*-*-*-\n",
            "   | |   | |   | \n",
            "---*-*---*-*---*-\n",
            "0.3333333335747878\n",
            "-*---*---*-*-*-*-\n",
            " |   |   | | | | \n",
            "-*-*-|-*-*-|-*-|-\n",
            "   | | |   |   | \n",
            "---*-*-*---*---*-\n",
            "0.3333333333472784\n",
            "-*---*---*-*---*-\n",
            " |   |   | |   | \n",
            "-*-*-|-*-|-*-*-*-\n",
            "   | | | |   |   \n",
            "---*-*-*-*---*---\n",
            "0.33333333379924146\n",
            "-*---*---*-*---*-\n",
            " |   |   | |   | \n",
            "-*-*-|-*-|-*-*-|-\n",
            "   | | | |   | | \n",
            "---*-*-*-*---*-*-\n",
            "0.33333334630677647\n",
            "-*-*-*-*---*---*-*-\n",
            " | | | |   |   | | \n",
            "-*-|-*-|-*-*-*-*-|-\n",
            "   |   | |   |   | \n",
            "---*---*-*---*---*-\n",
            "0.33333333335328835\n",
            "-*-*---*-*---*-*-*-\n",
            " | |   | |   | | | \n",
            "-*-|-*-|-*-*-*-|-*-\n",
            "   | | |   |   |   \n",
            "---*-*-*---*---*---\n"
          ]
        },
        {
          "output_type": "stream",
          "name": "stderr",
          "text": [
            "/usr/local/lib/python3.7/dist-packages/scipy/optimize/_linprog_ip.py:117: LinAlgWarning: Ill-conditioned matrix (rcond=1.02479e-18): result may not be accurate.\n",
            "  return sp.linalg.solve(M, r, sym_pos=sym_pos)\n"
          ]
        },
        {
          "output_type": "stream",
          "name": "stdout",
          "text": [
            "0.33333333334024784\n",
            "-*-*---*-*---*-*---\n",
            " | |   | |   | |   \n",
            "-*-|-*-|-*-*-*-|-*-\n",
            "   | | |   |   | | \n",
            "---*-*-*---*---*-*-\n",
            "0.33333334630676864\n",
            "-*---*---*-*-*-*---\n",
            " |   |   | | | |   \n",
            "-*-*-*-*-|-*-|-*-*-\n",
            "   |   | |   |   | \n",
            "---*---*-*---*---*-\n",
            "0.333333333353297\n",
            "-*---*---*-*-*---*-\n",
            " |   |   | | |   | \n",
            "-*-*-|-*-*-|-*-*-*-\n",
            "   | | |   |   |   \n",
            "---*-*-*---*---*---\n",
            "0.3333333333576586\n",
            "-*---*---*-*-*---*-\n",
            " |   |   | | |   | \n",
            "-*-*-|-*-*-|-*-*-|-\n",
            "   | | |   |   | | \n",
            "---*-*-*---*---*-*-\n"
          ]
        },
        {
          "output_type": "stream",
          "name": "stderr",
          "text": [
            "/usr/local/lib/python3.7/dist-packages/scipy/optimize/_linprog_ip.py:117: LinAlgWarning: Ill-conditioned matrix (rcond=8.3396e-20): result may not be accurate.\n",
            "  return sp.linalg.solve(M, r, sym_pos=sym_pos)\n"
          ]
        }
      ]
    },
    {
      "cell_type": "code",
      "source": [
        "Basic_Structures"
      ],
      "metadata": {
        "id": "R-qJ5-2Om2f1",
        "colab": {
          "base_uri": "https://localhost:8080/"
        },
        "outputId": "7626e236-1987-49a6-dffd-c2536e90584e"
      },
      "execution_count": null,
      "outputs": [
        {
          "output_type": "execute_result",
          "data": {
            "text/plain": [
              "[[[1, 2], [1, 3], [2, 3], [1, 2], [1, 3]],\n",
              " [[1, 2], [2, 3], [1, 3], [1, 2], [2, 3]],\n",
              " [[1, 2], [1, 3], [1, 2], [1, 3], [1, 2], [2, 3]],\n",
              " [[1, 2], [1, 3], [1, 2], [2, 3], [1, 2], [1, 3]],\n",
              " [[1, 2], [1, 3], [1, 2], [2, 3], [1, 3], [1, 2]],\n",
              " [[1, 2], [1, 3], [2, 3], [1, 3], [1, 2], [1, 3]],\n",
              " [[1, 2], [1, 3], [2, 3], [1, 3], [2, 3], [1, 3]],\n",
              " [[1, 2], [2, 3], [1, 2], [1, 3], [1, 2], [2, 3]],\n",
              " [[1, 2], [2, 3], [1, 2], [1, 3], [2, 3], [1, 2]],\n",
              " [[1, 2], [2, 3], [1, 2], [2, 3], [1, 2], [1, 3]],\n",
              " [[1, 2], [2, 3], [1, 3], [2, 3], [1, 2], [2, 3]],\n",
              " [[1, 2], [2, 3], [1, 3], [2, 3], [1, 3], [2, 3]],\n",
              " [[1, 2], [1, 3], [1, 2], [1, 3], [1, 2], [1, 3], [2, 3]],\n",
              " [[1, 2], [1, 3], [1, 2], [1, 3], [2, 3], [1, 3], [1, 2]],\n",
              " [[1, 2], [1, 3], [1, 2], [2, 3], [1, 2], [2, 3], [1, 2]],\n",
              " [[1, 2], [1, 3], [1, 2], [2, 3], [1, 2], [2, 3], [1, 3]],\n",
              " [[1, 2], [1, 3], [2, 3], [1, 2], [2, 3], [1, 2], [2, 3]],\n",
              " [[1, 2], [1, 3], [2, 3], [1, 2], [2, 3], [1, 3], [2, 3]],\n",
              " [[1, 2], [1, 3], [2, 3], [1, 3], [1, 2], [2, 3], [1, 3]],\n",
              " [[1, 2], [1, 3], [2, 3], [1, 3], [2, 3], [1, 2], [2, 3]],\n",
              " [[1, 2], [2, 3], [1, 2], [1, 3], [1, 2], [1, 3], [1, 2]],\n",
              " [[1, 2], [2, 3], [1, 2], [1, 3], [1, 2], [1, 3], [2, 3]],\n",
              " [[1, 2], [2, 3], [1, 2], [2, 3], [1, 2], [2, 3], [1, 3]],\n",
              " [[1, 2], [2, 3], [1, 2], [2, 3], [1, 3], [2, 3], [1, 2]],\n",
              " [[1, 2], [2, 3], [1, 3], [1, 2], [1, 3], [1, 2], [1, 3]],\n",
              " [[1, 2], [2, 3], [1, 3], [1, 2], [1, 3], [2, 3], [1, 3]],\n",
              " [[1, 2], [2, 3], [1, 3], [2, 3], [1, 2], [1, 3], [2, 3]],\n",
              " [[1, 2], [2, 3], [1, 3], [2, 3], [1, 3], [1, 2], [1, 3]],\n",
              " [[1, 2], [1, 3], [1, 2], [1, 3], [2, 3], [1, 2], [2, 3], [1, 3]],\n",
              " [[1, 2], [1, 3], [1, 2], [1, 3], [2, 3], [1, 3], [2, 3], [1, 2]],\n",
              " [[1, 2], [1, 3], [1, 2], [2, 3], [1, 3], [2, 3], [1, 2], [1, 3]],\n",
              " [[1, 2], [1, 3], [1, 2], [2, 3], [1, 3], [2, 3], [1, 3], [1, 2]],\n",
              " [[1, 2], [1, 3], [2, 3], [1, 2], [2, 3], [1, 2], [1, 3], [1, 2]],\n",
              " [[1, 2], [1, 3], [2, 3], [1, 2], [2, 3], [1, 2], [1, 3], [2, 3]],\n",
              " [[1, 2], [1, 3], [2, 3], [1, 2], [2, 3], [1, 3], [1, 2], [1, 3]],\n",
              " [[1, 2], [1, 3], [2, 3], [1, 3], [1, 2], [2, 3], [1, 2], [2, 3]],\n",
              " [[1, 2], [1, 3], [2, 3], [1, 3], [2, 3], [1, 2], [1, 3], [1, 2]],\n",
              " [[1, 2], [1, 3], [2, 3], [1, 3], [2, 3], [1, 2], [1, 3], [2, 3]],\n",
              " [[1, 2], [2, 3], [1, 2], [1, 3], [2, 3], [1, 3], [1, 2], [2, 3]],\n",
              " [[1, 2], [2, 3], [1, 2], [1, 3], [2, 3], [1, 3], [2, 3], [1, 2]],\n",
              " [[1, 2], [2, 3], [1, 2], [2, 3], [1, 3], [1, 2], [1, 3], [2, 3]],\n",
              " [[1, 2], [2, 3], [1, 2], [2, 3], [1, 3], [2, 3], [1, 3], [1, 2]],\n",
              " [[1, 2], [2, 3], [1, 3], [1, 2], [1, 3], [1, 2], [2, 3], [1, 2]],\n",
              " [[1, 2], [2, 3], [1, 3], [1, 2], [1, 3], [1, 2], [2, 3], [1, 3]],\n",
              " [[1, 2], [2, 3], [1, 3], [1, 2], [1, 3], [2, 3], [1, 2], [2, 3]],\n",
              " [[1, 2], [2, 3], [1, 3], [2, 3], [1, 2], [1, 3], [1, 2], [1, 3]],\n",
              " [[1, 2], [2, 3], [1, 3], [2, 3], [1, 3], [1, 2], [2, 3], [1, 2]],\n",
              " [[1, 2], [2, 3], [1, 3], [2, 3], [1, 3], [1, 2], [2, 3], [1, 3]],\n",
              " [[1, 2], [1, 3], [1, 2], [1, 3], [2, 3], [1, 2], [2, 3], [1, 2], [1, 3]],\n",
              " [[1, 2], [1, 3], [2, 3], [1, 3], [1, 2], [2, 3], [1, 2], [1, 3], [1, 2]],\n",
              " [[1, 2], [1, 3], [2, 3], [1, 3], [1, 2], [2, 3], [1, 2], [1, 3], [2, 3]],\n",
              " [[1, 2], [2, 3], [1, 2], [2, 3], [1, 3], [1, 2], [1, 3], [1, 2], [2, 3]],\n",
              " [[1, 2], [2, 3], [1, 3], [2, 3], [1, 2], [1, 3], [1, 2], [2, 3], [1, 2]],\n",
              " [[1, 2], [2, 3], [1, 3], [2, 3], [1, 2], [1, 3], [1, 2], [2, 3], [1, 3]]]"
            ]
          },
          "metadata": {},
          "execution_count": 34
        }
      ]
    },
    {
      "cell_type": "code",
      "source": [
        "len(Basic_Structures)"
      ],
      "metadata": {
        "id": "_YkQUOtFvSUo",
        "colab": {
          "base_uri": "https://localhost:8080/"
        },
        "outputId": "cd745059-bdd2-4e7c-8c93-ca0441ad862c"
      },
      "execution_count": null,
      "outputs": [
        {
          "output_type": "execute_result",
          "data": {
            "text/plain": [
              "54"
            ]
          },
          "metadata": {},
          "execution_count": 35
        }
      ]
    },
    {
      "cell_type": "code",
      "source": [
        "for g in create_graphs(10):\n",
        "    check = False\n",
        "    for s in Basic_Structures:\n",
        "        if sub_in_g(s, g):\n",
        "            check = True\n",
        "            continue\n",
        "    if not check:\n",
        "        print_graph(g)"
      ],
      "metadata": {
        "id": "RGNzTDpOrQc8",
        "colab": {
          "base_uri": "https://localhost:8080/"
        },
        "outputId": "4a04fa8d-b94d-4696-9729-4df32dbe9d73"
      },
      "execution_count": null,
      "outputs": [
        {
          "output_type": "stream",
          "name": "stdout",
          "text": [
            "-*-*-*-*-*-*-*-*-*-*-\n",
            " | | | | | | | | | | \n",
            "-*-|-*-|-*-|-*-|-*-|-\n",
            "   |   |   |   |   | \n",
            "---*---*---*---*---*-\n",
            "-*---*---*---*---*---\n",
            " |   |   |   |   |   \n",
            "-*-*-*-*-*-*-*-*-*-*-\n",
            "   |   |   |   |   | \n",
            "---*---*---*---*---*-\n"
          ]
        }
      ]
    },
    {
      "cell_type": "code",
      "source": [
        "def isomorphic(g1, g2):\n",
        "    if g1 == g2: return True\n",
        "    for v in g2:\n",
        "        #print(v)\n",
        "        if v == [1, 3]:\n",
        "            v[0] = 2\n",
        "        elif v == [2, 3]:\n",
        "            v[0] = 1\n",
        "    #print(g2)\n",
        "    return g1 == g2"
      ],
      "metadata": {
        "id": "qBxPdqc6LVY2"
      },
      "execution_count": null,
      "outputs": []
    },
    {
      "cell_type": "code",
      "source": [
        "BS = []\n",
        "BS.append(Basic_Structures[0])"
      ],
      "metadata": {
        "id": "EeBE7cicO3wR"
      },
      "execution_count": null,
      "outputs": []
    },
    {
      "cell_type": "code",
      "source": [
        "for struct in Basic_Structures:\n",
        "    iso = False\n",
        "    for s in BS:\n",
        "        if isomorphic(s, struct):\n",
        "            iso = True\n",
        "            break\n",
        "    if not iso:\n",
        "        BS.append(struct)"
      ],
      "metadata": {
        "id": "E9Yz7Fq0OvAF"
      },
      "execution_count": null,
      "outputs": []
    },
    {
      "cell_type": "code",
      "source": [
        "len(BS)"
      ],
      "metadata": {
        "id": "Oc8PvH1YQWFc",
        "colab": {
          "base_uri": "https://localhost:8080/"
        },
        "outputId": "6231a683-df5a-43c7-9fa1-c4f2df330503"
      },
      "execution_count": null,
      "outputs": [
        {
          "output_type": "execute_result",
          "data": {
            "text/plain": [
              "27"
            ]
          },
          "metadata": {},
          "execution_count": 40
        }
      ]
    },
    {
      "cell_type": "code",
      "source": [
        "BS"
      ],
      "metadata": {
        "id": "_AtvOIn5QeP2",
        "colab": {
          "base_uri": "https://localhost:8080/"
        },
        "outputId": "5f389143-a001-48cb-9329-3633aec2f80c"
      },
      "execution_count": null,
      "outputs": [
        {
          "output_type": "execute_result",
          "data": {
            "text/plain": [
              "[[[1, 2], [1, 3], [2, 3], [1, 2], [1, 3]],\n",
              " [[1, 2], [2, 3], [1, 2], [2, 3], [1, 2], [1, 3]],\n",
              " [[1, 2], [1, 3], [1, 2], [2, 3], [1, 2], [1, 3]],\n",
              " [[1, 2], [2, 3], [1, 2], [1, 3], [2, 3], [1, 2]],\n",
              " [[1, 2], [1, 3], [2, 3], [1, 3], [1, 2], [1, 3]],\n",
              " [[1, 2], [2, 3], [1, 3], [2, 3], [1, 3], [2, 3]],\n",
              " [[1, 2], [1, 3], [1, 2], [1, 3], [1, 2], [1, 3], [2, 3]],\n",
              " [[1, 2], [2, 3], [1, 2], [2, 3], [1, 3], [2, 3], [1, 2]],\n",
              " [[1, 2], [1, 3], [1, 2], [2, 3], [1, 2], [2, 3], [1, 2]],\n",
              " [[1, 2], [2, 3], [1, 2], [1, 3], [1, 2], [1, 3], [2, 3]],\n",
              " [[1, 2], [1, 3], [2, 3], [1, 2], [2, 3], [1, 2], [2, 3]],\n",
              " [[1, 2], [2, 3], [1, 3], [1, 2], [1, 3], [2, 3], [1, 3]],\n",
              " [[1, 2], [1, 3], [2, 3], [1, 3], [1, 2], [2, 3], [1, 3]],\n",
              " [[1, 2], [2, 3], [1, 3], [2, 3], [1, 3], [1, 2], [1, 3]],\n",
              " [[1, 2], [1, 3], [1, 2], [1, 3], [2, 3], [1, 2], [2, 3], [1, 3]],\n",
              " [[1, 2], [2, 3], [1, 2], [2, 3], [1, 3], [2, 3], [1, 3], [1, 2]],\n",
              " [[1, 2], [1, 3], [1, 2], [2, 3], [1, 3], [2, 3], [1, 2], [1, 3]],\n",
              " [[1, 2], [2, 3], [1, 2], [1, 3], [2, 3], [1, 3], [2, 3], [1, 2]],\n",
              " [[1, 2], [1, 3], [2, 3], [1, 2], [2, 3], [1, 2], [1, 3], [1, 2]],\n",
              " [[1, 2], [2, 3], [1, 3], [1, 2], [1, 3], [1, 2], [2, 3], [1, 3]],\n",
              " [[1, 2], [1, 3], [2, 3], [1, 2], [2, 3], [1, 3], [1, 2], [1, 3]],\n",
              " [[1, 2], [2, 3], [1, 3], [2, 3], [1, 2], [1, 3], [1, 2], [1, 3]],\n",
              " [[1, 2], [1, 3], [2, 3], [1, 3], [2, 3], [1, 2], [1, 3], [1, 2]],\n",
              " [[1, 2], [2, 3], [1, 3], [2, 3], [1, 3], [1, 2], [2, 3], [1, 3]],\n",
              " [[1, 2], [1, 3], [1, 2], [1, 3], [2, 3], [1, 2], [2, 3], [1, 2], [1, 3]],\n",
              " [[1, 2], [2, 3], [1, 3], [2, 3], [1, 2], [1, 3], [1, 2], [2, 3], [1, 2]],\n",
              " [[1, 2], [1, 3], [2, 3], [1, 3], [1, 2], [2, 3], [1, 2], [1, 3], [2, 3]]]"
            ]
          },
          "metadata": {},
          "execution_count": 41
        }
      ]
    },
    {
      "cell_type": "code",
      "source": [
        "GR"
      ],
      "metadata": {
        "id": "ZxAC2iokoiiD",
        "colab": {
          "base_uri": "https://localhost:8080/"
        },
        "outputId": "c71c0925-29a0-47a2-ee44-22ff35578424"
      },
      "execution_count": null,
      "outputs": [
        {
          "output_type": "execute_result",
          "data": {
            "text/plain": [
              "[[[1, 2], [1, 3], [1, 2], [1, 3], [1, 2]],\n",
              " [[1, 2], [1, 3], [1, 2], [1, 3], [2, 3]],\n",
              " [[1, 2], [1, 3], [1, 2], [2, 3], [1, 2]],\n",
              " [[1, 2], [1, 3], [1, 2], [2, 3], [1, 3]],\n",
              " [[1, 2], [1, 3], [2, 3], [1, 2], [2, 3]],\n",
              " [[1, 2], [1, 3], [2, 3], [1, 3], [1, 2]],\n",
              " [[1, 2], [1, 3], [2, 3], [1, 3], [2, 3]],\n",
              " [[1, 2], [2, 3], [1, 2], [1, 3], [1, 2]],\n",
              " [[1, 2], [2, 3], [1, 2], [1, 3], [2, 3]],\n",
              " [[1, 2], [2, 3], [1, 2], [2, 3], [1, 2]],\n",
              " [[1, 2], [2, 3], [1, 2], [2, 3], [1, 3]],\n",
              " [[1, 2], [2, 3], [1, 3], [1, 2], [1, 3]],\n",
              " [[1, 2], [2, 3], [1, 3], [2, 3], [1, 2]],\n",
              " [[1, 2], [2, 3], [1, 3], [2, 3], [1, 3]],\n",
              " [[1, 2], [1, 3], [1, 2], [1, 3], [1, 2], [1, 3]],\n",
              " [[1, 2], [1, 3], [1, 2], [1, 3], [2, 3], [1, 2]],\n",
              " [[1, 2], [1, 3], [1, 2], [1, 3], [2, 3], [1, 3]],\n",
              " [[1, 2], [1, 3], [1, 2], [2, 3], [1, 2], [2, 3]],\n",
              " [[1, 2], [1, 3], [1, 2], [2, 3], [1, 3], [2, 3]],\n",
              " [[1, 2], [1, 3], [2, 3], [1, 2], [2, 3], [1, 2]],\n",
              " [[1, 2], [1, 3], [2, 3], [1, 2], [2, 3], [1, 3]],\n",
              " [[1, 2], [1, 3], [2, 3], [1, 3], [1, 2], [2, 3]],\n",
              " [[1, 2], [1, 3], [2, 3], [1, 3], [2, 3], [1, 2]],\n",
              " [[1, 2], [2, 3], [1, 2], [1, 3], [1, 2], [1, 3]],\n",
              " [[1, 2], [2, 3], [1, 2], [1, 3], [2, 3], [1, 3]],\n",
              " [[1, 2], [2, 3], [1, 2], [2, 3], [1, 2], [2, 3]],\n",
              " [[1, 2], [2, 3], [1, 2], [2, 3], [1, 3], [1, 2]],\n",
              " [[1, 2], [2, 3], [1, 2], [2, 3], [1, 3], [2, 3]],\n",
              " [[1, 2], [2, 3], [1, 3], [1, 2], [1, 3], [1, 2]],\n",
              " [[1, 2], [2, 3], [1, 3], [1, 2], [1, 3], [2, 3]],\n",
              " [[1, 2], [2, 3], [1, 3], [2, 3], [1, 2], [1, 3]],\n",
              " [[1, 2], [2, 3], [1, 3], [2, 3], [1, 3], [1, 2]],\n",
              " [[1, 2], [1, 3], [1, 2], [1, 3], [1, 2], [1, 3], [1, 2]],\n",
              " [[1, 2], [1, 3], [1, 2], [1, 3], [2, 3], [1, 2], [2, 3]],\n",
              " [[1, 2], [1, 3], [1, 2], [1, 3], [2, 3], [1, 3], [2, 3]],\n",
              " [[1, 2], [1, 3], [1, 2], [2, 3], [1, 3], [2, 3], [1, 2]],\n",
              " [[1, 2], [1, 3], [1, 2], [2, 3], [1, 3], [2, 3], [1, 3]],\n",
              " [[1, 2], [1, 3], [2, 3], [1, 2], [2, 3], [1, 2], [1, 3]],\n",
              " [[1, 2], [1, 3], [2, 3], [1, 2], [2, 3], [1, 3], [1, 2]],\n",
              " [[1, 2], [1, 3], [2, 3], [1, 3], [1, 2], [2, 3], [1, 2]],\n",
              " [[1, 2], [1, 3], [2, 3], [1, 3], [2, 3], [1, 2], [1, 3]],\n",
              " [[1, 2], [2, 3], [1, 2], [1, 3], [2, 3], [1, 3], [1, 2]],\n",
              " [[1, 2], [2, 3], [1, 2], [1, 3], [2, 3], [1, 3], [2, 3]],\n",
              " [[1, 2], [2, 3], [1, 2], [2, 3], [1, 2], [2, 3], [1, 2]],\n",
              " [[1, 2], [2, 3], [1, 2], [2, 3], [1, 3], [1, 2], [1, 3]],\n",
              " [[1, 2], [2, 3], [1, 2], [2, 3], [1, 3], [2, 3], [1, 3]],\n",
              " [[1, 2], [2, 3], [1, 3], [1, 2], [1, 3], [1, 2], [2, 3]],\n",
              " [[1, 2], [2, 3], [1, 3], [1, 2], [1, 3], [2, 3], [1, 2]],\n",
              " [[1, 2], [2, 3], [1, 3], [2, 3], [1, 2], [1, 3], [1, 2]],\n",
              " [[1, 2], [2, 3], [1, 3], [2, 3], [1, 3], [1, 2], [2, 3]],\n",
              " [[1, 2], [1, 3], [1, 2], [1, 3], [1, 2], [1, 3], [1, 2], [1, 3]],\n",
              " [[1, 2], [1, 3], [1, 2], [1, 3], [2, 3], [1, 2], [2, 3], [1, 2]],\n",
              " [[1, 2], [1, 3], [2, 3], [1, 3], [1, 2], [2, 3], [1, 2], [1, 3]],\n",
              " [[1, 2], [2, 3], [1, 2], [2, 3], [1, 2], [2, 3], [1, 2], [2, 3]],\n",
              " [[1, 2], [2, 3], [1, 2], [2, 3], [1, 3], [1, 2], [1, 3], [1, 2]],\n",
              " [[1, 2], [2, 3], [1, 3], [2, 3], [1, 2], [1, 3], [1, 2], [2, 3]],\n",
              " [[1, 2], [1, 3], [1, 2], [1, 3], [1, 2], [1, 3], [1, 2], [1, 3], [1, 2]],\n",
              " [[1, 2], [2, 3], [1, 2], [2, 3], [1, 2], [2, 3], [1, 2], [2, 3], [1, 2]]]"
            ]
          },
          "metadata": {},
          "execution_count": 42
        }
      ]
    },
    {
      "cell_type": "code",
      "source": [
        "Not_Burls = []\n",
        "Not_Burls.append(GR[0])\n",
        "for g in GR:\n",
        "    iso = False\n",
        "    for nb in Not_Burls:\n",
        "        if isomorphic(nb, g):\n",
        "            iso = True\n",
        "            break\n",
        "    if not iso:\n",
        "        Not_Burls.append(g)"
      ],
      "metadata": {
        "id": "Al9IrbCpLU-w"
      },
      "execution_count": null,
      "outputs": []
    },
    {
      "cell_type": "code",
      "source": [
        "print(len(Not_Burls))"
      ],
      "metadata": {
        "id": "7HxG_VevL_t-",
        "colab": {
          "base_uri": "https://localhost:8080/"
        },
        "outputId": "39ff52b3-6854-4082-e358-455bddbdf610"
      },
      "execution_count": null,
      "outputs": [
        {
          "output_type": "stream",
          "name": "stdout",
          "text": [
            "29\n"
          ]
        }
      ]
    },
    {
      "cell_type": "code",
      "source": [
        "Not_Burls"
      ],
      "metadata": {
        "id": "eEI2sTZhL9W5",
        "colab": {
          "base_uri": "https://localhost:8080/"
        },
        "outputId": "dd5b07be-1e6b-46b7-e533-263ced26e825"
      },
      "execution_count": null,
      "outputs": [
        {
          "output_type": "execute_result",
          "data": {
            "text/plain": [
              "[[[1, 2], [1, 3], [1, 2], [1, 3], [1, 2]],\n",
              " [[1, 2], [2, 3], [1, 2], [2, 3], [1, 3]],\n",
              " [[1, 2], [1, 3], [1, 2], [2, 3], [1, 2]],\n",
              " [[1, 2], [2, 3], [1, 2], [1, 3], [2, 3]],\n",
              " [[1, 2], [1, 3], [2, 3], [1, 2], [2, 3]],\n",
              " [[1, 2], [2, 3], [1, 3], [2, 3], [1, 2]],\n",
              " [[1, 2], [1, 3], [2, 3], [1, 3], [2, 3]],\n",
              " [[1, 2], [2, 3], [1, 2], [2, 3], [1, 2], [2, 3]],\n",
              " [[1, 2], [1, 3], [1, 2], [1, 3], [2, 3], [1, 2]],\n",
              " [[1, 2], [2, 3], [1, 2], [2, 3], [1, 3], [2, 3]],\n",
              " [[1, 2], [1, 3], [1, 2], [2, 3], [1, 2], [2, 3]],\n",
              " [[1, 2], [2, 3], [1, 2], [1, 3], [2, 3], [1, 3]],\n",
              " [[1, 2], [1, 3], [2, 3], [1, 2], [2, 3], [1, 2]],\n",
              " [[1, 2], [2, 3], [1, 3], [1, 2], [1, 3], [2, 3]],\n",
              " [[1, 2], [1, 3], [2, 3], [1, 3], [1, 2], [2, 3]],\n",
              " [[1, 2], [2, 3], [1, 3], [2, 3], [1, 3], [1, 2]],\n",
              " [[1, 2], [1, 3], [1, 2], [1, 3], [1, 2], [1, 3], [1, 2]],\n",
              " [[1, 2], [2, 3], [1, 2], [2, 3], [1, 3], [1, 2], [1, 3]],\n",
              " [[1, 2], [1, 3], [1, 2], [1, 3], [2, 3], [1, 3], [2, 3]],\n",
              " [[1, 2], [2, 3], [1, 2], [1, 3], [2, 3], [1, 3], [1, 2]],\n",
              " [[1, 2], [1, 3], [1, 2], [2, 3], [1, 3], [2, 3], [1, 3]],\n",
              " [[1, 2], [2, 3], [1, 3], [1, 2], [1, 3], [1, 2], [2, 3]],\n",
              " [[1, 2], [1, 3], [2, 3], [1, 2], [2, 3], [1, 3], [1, 2]],\n",
              " [[1, 2], [2, 3], [1, 3], [2, 3], [1, 2], [1, 3], [1, 2]],\n",
              " [[1, 2], [1, 3], [2, 3], [1, 3], [2, 3], [1, 2], [1, 3]],\n",
              " [[1, 2], [2, 3], [1, 2], [2, 3], [1, 2], [2, 3], [1, 2], [2, 3]],\n",
              " [[1, 2], [1, 3], [1, 2], [1, 3], [2, 3], [1, 2], [2, 3], [1, 2]],\n",
              " [[1, 2], [2, 3], [1, 3], [2, 3], [1, 2], [1, 3], [1, 2], [2, 3]],\n",
              " [[1, 2], [1, 3], [1, 2], [1, 3], [1, 2], [1, 3], [1, 2], [1, 3], [1, 2]]]"
            ]
          },
          "metadata": {},
          "execution_count": 45
        }
      ]
    },
    {
      "cell_type": "code",
      "source": [
        "def add_b3_front(graph, v):\n",
        "    gr = edges(graph)\n",
        "    g = []\n",
        "    acc = []\n",
        "    for i in range(1, 4):\n",
        "        if i != v: acc.append(i)\n",
        "    g.append([1, -1])\n",
        "    out = []\n",
        "    l = len(graph) * 2 + 4\n",
        "    for i in range(l, l+3):\n",
        "        out.append(i)\n",
        "    for e in gr:\n",
        "        v1 = e[0]\n",
        "        v2 = e[1]\n",
        "        if v1 in acc:\n",
        "            g.append([1, v2-2])\n",
        "        elif v1 == v:\n",
        "            g.append([v2-2, 2-v2])\n",
        "        else:\n",
        "            if v2 in out: g.append([v1-2, 2-v1])\n",
        "            else: g.append([v1-2, v2-2])\n",
        "    return g"
      ],
      "metadata": {
        "id": "SSU-26Yao_w5"
      },
      "execution_count": null,
      "outputs": []
    },
    {
      "cell_type": "code",
      "source": [
        "def add_b3_back(graph, v):\n",
        "    gr = edges(graph)\n",
        "    g = []\n",
        "    v += 2*len(graph) + 3\n",
        "    #print(v)\n",
        "    acc = []\n",
        "    for i in range(2*len(graph) + 4, 2*len(graph) + 7): acc.append(i)\n",
        "    for e in gr:\n",
        "        v1 = e[0]\n",
        "        v2 = e[1]\n",
        "        if v1 in [1, 2, 3]:\n",
        "            g.append([v2-3, 3-v2])\n",
        "        else:\n",
        "            #print(v2)\n",
        "            if v2 in acc:\n",
        "                #print(\"IN\", v2)\n",
        "                if v2 == v:\n",
        "                    g.append([v1-3, 3-v1])\n",
        "                else: g.append([v1-3, 2*len(graph)+1])\n",
        "            else: g.append([v1-3, v2-3])\n",
        "    g.append([2*len(graph)+1, -1-2*len(graph)])\n",
        "    return g"
      ],
      "metadata": {
        "id": "wkt1VcT3vjvZ"
      },
      "execution_count": null,
      "outputs": []
    },
    {
      "cell_type": "code",
      "source": [
        "def b_3(graph):\n",
        "    G = []\n",
        "    for i in range(1, 4):\n",
        "        G.append(add_b3_front(graph, i))\n",
        "        G.append(add_b3_back(graph, i))\n",
        "    return G"
      ],
      "metadata": {
        "id": "zwx0zs-j0KmW"
      },
      "execution_count": null,
      "outputs": []
    },
    {
      "cell_type": "code",
      "source": [
        "for g in b_3(GR[0]):\n",
        "    print(g)"
      ],
      "metadata": {
        "colab": {
          "base_uri": "https://localhost:8080/"
        },
        "id": "-8FzZjNW0o52",
        "outputId": "76a0c2c4-a56c-43a2-a4e1-d11f51619faf"
      },
      "execution_count": null,
      "outputs": [
        {
          "output_type": "stream",
          "name": "stdout",
          "text": [
            "[[1, -1], [2, -2], [1, 3], [1, 5], [2, 3], [2, 4], [3, 7], [4, 5], [4, 6], [5, 9], [6, 7], [6, 8], [7, 11], [8, 9], [8, 10], [9, -9], [10, 11], [10, -10], [11, -11]]\n",
            "[[1, -1], [2, -2], [4, -4], [1, 2], [1, 3], [2, 6], [3, 4], [3, 5], [4, 8], [5, 6], [5, 7], [6, 10], [7, 8], [7, 9], [8, 11], [9, 10], [9, -9], [10, 11], [11, -11]]\n",
            "[[1, -1], [1, 2], [3, -3], [1, 5], [2, 3], [2, 4], [3, 7], [4, 5], [4, 6], [5, 9], [6, 7], [6, 8], [7, 11], [8, 9], [8, 10], [9, -9], [10, 11], [10, -10], [11, -11]]\n",
            "[[1, -1], [2, -2], [4, -4], [1, 2], [1, 3], [2, 6], [3, 4], [3, 5], [4, 8], [5, 6], [5, 7], [6, 10], [7, 8], [7, 9], [8, 11], [9, 10], [9, 11], [10, -10], [11, -11]]\n",
            "[[1, -1], [1, 2], [1, 3], [5, -5], [2, 3], [2, 4], [3, 7], [4, 5], [4, 6], [5, 9], [6, 7], [6, 8], [7, 11], [8, 9], [8, 10], [9, -9], [10, 11], [10, -10], [11, -11]]\n",
            "[[1, -1], [2, -2], [4, -4], [1, 2], [1, 3], [2, 6], [3, 4], [3, 5], [4, 8], [5, 6], [5, 7], [6, 10], [7, 8], [7, 9], [8, -8], [9, 10], [9, 11], [10, 11], [11, -11]]\n"
          ]
        }
      ]
    },
    {
      "cell_type": "code",
      "source": [
        "def add_k4_front(graph, e1, e2, v):\n",
        "    g = edges(graph)\n",
        "    l = len(graph)*2 + 3\n",
        "    out = []\n",
        "    for i in range(l+1, l+4): out.append(i)\n",
        "    ans = []\n",
        "    for i in range(1, 4):\n",
        "        if i != v:\n",
        "            ans.append([i, -i])\n",
        "    ans.append(e1)\n",
        "    ans.append(e2)\n",
        "    for e in g:\n",
        "        v1 = e[0]\n",
        "        v2 = e[1]\n",
        "        if v2 in out: ans.append([v1, -v1])\n",
        "        else: ans.append([v1, v2])\n",
        "    return ans"
      ],
      "metadata": {
        "id": "KhLr07kS1Us6"
      },
      "execution_count": null,
      "outputs": []
    },
    {
      "cell_type": "code",
      "source": [
        "def add_k4_back(graph, e1, e2, v):\n",
        "    g = edges(graph)\n",
        "    l = len(graph)*2\n",
        "    out = [1, 2, 3]\n",
        "    ans = []\n",
        "    for e in g:\n",
        "        v1 = e[0]\n",
        "        v2 = e[1]\n",
        "        if v1 in out: ans.append([v2-3, 3-v2])\n",
        "        else: ans.append([v1-3, v2-3])\n",
        "    for i in range(1, 4):\n",
        "        if i != v:\n",
        "            ans.append([l+i, -l-i])\n",
        "    ans.append([l+e1[0], l+e1[1]])\n",
        "    ans.append([l+e2[0], l+e2[1]])\n",
        "    return ans"
      ],
      "metadata": {
        "id": "dtBbhT1n6Dmz"
      },
      "execution_count": null,
      "outputs": []
    },
    {
      "cell_type": "code",
      "source": [
        "print_graph(GR[16])\n",
        "print(edges(GR[16]))\n",
        "print(add_k4_front(GR[16], [1, 2], [1, 3], 1))\n",
        "print(add_k4_back(GR[16], [1, 3], [2, 3], 3))"
      ],
      "metadata": {
        "id": "7kTEhWuJ4uoR"
      },
      "execution_count": null,
      "outputs": []
    },
    {
      "cell_type": "code",
      "source": [
        "def k_4(graph):\n",
        "    G = []\n",
        "    G.append(add_k4_back(graph, [1, 2], [1, 3], 1))\n",
        "    G.append(add_k4_back(graph, [1, 2], [2, 3], 2))\n",
        "    G.append(add_k4_back(graph, [1, 3], [2, 3], 3))\n",
        "    G.append(add_k4_front(graph, [1, 2], [1, 3], 1))\n",
        "    G.append(add_k4_front(graph, [1, 2], [2, 3], 2))\n",
        "    G.append(add_k4_front(graph, [1, 3], [2, 3], 3))\n",
        "    return G"
      ],
      "metadata": {
        "id": "FgkbfPTs7a2u"
      },
      "execution_count": null,
      "outputs": []
    },
    {
      "cell_type": "code",
      "source": [
        "print(k_4(GR[16]))"
      ],
      "metadata": {
        "id": "o85gAl3S8GZV"
      },
      "execution_count": null,
      "outputs": []
    },
    {
      "cell_type": "code",
      "source": [
        "def borders(graph):\n",
        "    G1 = b_3(graph)\n",
        "    G2 = k_4(graph)\n",
        "    return G1 + G2"
      ],
      "metadata": {
        "id": "mrJograz8OS0"
      },
      "execution_count": null,
      "outputs": []
    },
    {
      "cell_type": "code",
      "source": [
        "G5 = []\n",
        "for g in GR:\n",
        "    if len(g) == 6:\n",
        "        G5 += b_3(g)"
      ],
      "metadata": {
        "id": "CtWCTgVc83Qa"
      },
      "execution_count": null,
      "outputs": []
    },
    {
      "cell_type": "code",
      "source": [
        "for g in G5:\n",
        "    print(g, end=',\\n')"
      ],
      "metadata": {
        "id": "v71qK3X7_BFl"
      },
      "execution_count": null,
      "outputs": []
    },
    {
      "cell_type": "code",
      "source": [
        "create_graphs(4)"
      ],
      "metadata": {
        "colab": {
          "base_uri": "https://localhost:8080/"
        },
        "id": "jSHhaAK_vGvi",
        "outputId": "f69d9272-9c24-4bfc-d961-d3bd62396e9e"
      },
      "execution_count": null,
      "outputs": [
        {
          "output_type": "execute_result",
          "data": {
            "text/plain": [
              "[[[1, 2], [1, 3], [1, 2], [1, 3]],\n",
              " [[1, 2], [1, 3], [1, 2], [2, 3]],\n",
              " [[1, 2], [1, 3], [2, 3], [1, 2]],\n",
              " [[1, 2], [1, 3], [2, 3], [1, 3]],\n",
              " [[1, 2], [2, 3], [1, 2], [1, 3]],\n",
              " [[1, 2], [2, 3], [1, 2], [2, 3]],\n",
              " [[1, 2], [2, 3], [1, 3], [1, 2]],\n",
              " [[1, 2], [2, 3], [1, 3], [2, 3]]]"
            ]
          },
          "metadata": {},
          "execution_count": 46
        }
      ]
    },
    {
      "cell_type": "code",
      "source": [
        ""
      ],
      "metadata": {
        "id": "gjM9b-HoeISi"
      },
      "execution_count": null,
      "outputs": []
    }
  ]
}
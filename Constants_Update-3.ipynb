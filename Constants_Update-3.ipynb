{
  "nbformat": 4,
  "nbformat_minor": 0,
  "metadata": {
    "colab": {
      "name": "Constants_Update.ipynb",
      "provenance": []
    },
    "kernelspec": {
      "name": "python3",
      "display_name": "Python 3"
    },
    "language_info": {
      "name": "python"
    }
  },
  "cells": [
    {
      "cell_type": "code",
      "execution_count": null,
      "metadata": {
        "colab": {
          "base_uri": "https://localhost:8080/"
        },
        "id": "Zih4GGJK1VMs",
        "outputId": "548616dc-ceb4-470e-d1d8-1b3db9f5c276"
      },
      "outputs": [
        {
          "output_type": "stream",
          "name": "stdout",
          "text": [
            "Requirement already satisfied: scipy in /usr/local/lib/python3.7/dist-packages (1.4.1)\n",
            "Requirement already satisfied: numpy>=1.13.3 in /usr/local/lib/python3.7/dist-packages (from scipy) (1.21.6)\n",
            "Requirement already satisfied: scipy in /usr/local/lib/python3.7/dist-packages (1.4.1)\n",
            "Collecting scipy\n",
            "  Downloading scipy-1.7.3-cp37-cp37m-manylinux_2_12_x86_64.manylinux2010_x86_64.whl (38.1 MB)\n",
            "\u001b[K     |████████████████████████████████| 38.1 MB 2.1 MB/s \n",
            "\u001b[?25hRequirement already satisfied: numpy<1.23.0,>=1.16.5 in /usr/local/lib/python3.7/dist-packages (from scipy) (1.21.6)\n",
            "Installing collected packages: scipy\n",
            "  Attempting uninstall: scipy\n",
            "    Found existing installation: scipy 1.4.1\n",
            "    Uninstalling scipy-1.4.1:\n",
            "      Successfully uninstalled scipy-1.4.1\n",
            "\u001b[31mERROR: pip's dependency resolver does not currently take into account all the packages that are installed. This behaviour is the source of the following dependency conflicts.\n",
            "albumentations 0.1.12 requires imgaug<0.2.7,>=0.2.5, but you have imgaug 0.2.9 which is incompatible.\u001b[0m\n",
            "Successfully installed scipy-1.7.3\n"
          ]
        }
      ],
      "source": [
        "!pip install scipy\n",
        "!pip install --upgrade scipy"
      ]
    },
    {
      "cell_type": "code",
      "source": [
        "from scipy.optimize import linprog"
      ],
      "metadata": {
        "id": "Jkj8Mdd61XhN"
      },
      "execution_count": null,
      "outputs": []
    },
    {
      "cell_type": "code",
      "source": [
        "import numpy as np\n",
        "from IPython.display import clear_output"
      ],
      "metadata": {
        "id": "ofTYNKKMsHl5"
      },
      "execution_count": null,
      "outputs": []
    },
    {
      "cell_type": "code",
      "source": [
        "bounds = [(0, None), (0, None), (0, None), (None, None)]"
      ],
      "metadata": {
        "id": "9INuJ-zLiaJM"
      },
      "execution_count": null,
      "outputs": []
    },
    {
      "cell_type": "code",
      "source": [
        "constanta = 3656"
      ],
      "metadata": {
        "id": "i-lq3_s2qs74"
      },
      "execution_count": null,
      "outputs": []
    },
    {
      "cell_type": "code",
      "source": [
        "ub1 = np.log(6)/np.log(2)\n",
        "ub2 = np.log(4/3)/np.log(2)"
      ],
      "metadata": {
        "id": "xqYOv9UtsHKp"
      },
      "execution_count": null,
      "outputs": []
    },
    {
      "cell_type": "code",
      "source": [
        "Results = []"
      ],
      "metadata": {
        "id": "pbPxjLyAwINE"
      },
      "execution_count": null,
      "outputs": []
    },
    {
      "cell_type": "code",
      "source": [
        "while constanta >= 0:\n",
        "    A_ub = [[1, -1, 0, 0],\n",
        "            [1, 0, -1, 0],\n",
        "            [0, -1, 1, 0],\n",
        "            [6, -1, 1, 0],\n",
        "            [42, 0, -1, 0],\n",
        "            [82, -1, 0, 0],\n",
        "            [48, -1, 1, 0],\n",
        "            [6, 0, 0, 1],\n",
        "            [7, 2, -1, 1],\n",
        "            [6, 2, 0, 0],\n",
        "            [4, 2, 0, -1],\n",
        "            [-constanta, 9, 0, 0]]\n",
        "\n",
        "    b_ub = [0, 0, 0, 0, 0, 0, 0, ub1, 1, ub2, 0, -3]\n",
        "\n",
        "    #c = [-1, 9, 0, 0]\n",
        "    c = np.zeros(4)\n",
        "\n",
        "    res = linprog(c, A_ub=A_ub, b_ub=b_ub, bounds=bounds)\n",
        "    if res.success:\n",
        "        Results.append([constanta, res.x])\n",
        "        #print(constanta)\n",
        "        #print(res.x)\n",
        "    else: break\n",
        "    clear_output(True)\n",
        "    constanta -= 1"
      ],
      "metadata": {
        "id": "iHarBXV3rGgG"
      },
      "execution_count": null,
      "outputs": []
    },
    {
      "cell_type": "code",
      "source": [
        "Results[-1]"
      ],
      "metadata": {
        "colab": {
          "base_uri": "https://localhost:8080/"
        },
        "id": "4IDPY9whwrpP",
        "outputId": "fb51d1d2-a005-4dfe-9f0f-d3c18d2b3f8f"
      },
      "execution_count": null,
      "outputs": [
        {
          "output_type": "execute_result",
          "data": {
            "text/plain": [
              "[2155, array([0.00223096, 0.20079286, 0.09370626, 0.5656232 ])]"
            ]
          },
          "metadata": {},
          "execution_count": 9
        }
      ]
    },
    {
      "cell_type": "code",
      "source": [
        "v = Results[-1][1]"
      ],
      "metadata": {
        "id": "gH_I8R8j32EY"
      },
      "execution_count": null,
      "outputs": []
    },
    {
      "cell_type": "code",
      "source": [
        "assert(v[0] > 0)\n",
        "assert(v[1] > 0)\n",
        "assert(v[2] > 0)\n",
        "assert(v[3] > 0)\n",
        "assert(v[0]/(9*v[1]+3)>=1/2155)\n",
        "assert(v[2]+6*v[0] <= v[1])\n",
        "assert(42*v[0]<=v[2])\n",
        "assert(82*v[0] <= v[1])\n",
        "assert(v[2] + 48*v[0] <= v[1])\n",
        "assert(6*v[0] + v[3] <= ub1)\n",
        "assert(v[3] + 2*v[1] + 7*v[0] - v[2] <= 1)\n",
        "assert(6*v[0] + 2*v[1] <= ub2)\n",
        "assert(2*v[1]+4*v[0] <= v[3])"
      ],
      "metadata": {
        "id": "fxPzzLYX3yOU"
      },
      "execution_count": null,
      "outputs": []
    }
  ]
}
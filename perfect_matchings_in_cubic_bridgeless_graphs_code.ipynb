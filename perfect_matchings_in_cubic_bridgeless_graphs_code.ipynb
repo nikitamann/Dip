{
  "nbformat": 4,
  "nbformat_minor": 0,
  "metadata": {
    "colab": {
      "provenance": []
    },
    "kernelspec": {
      "name": "python3",
      "display_name": "Python 3"
    },
    "language_info": {
      "name": "python"
    }
  },
  "cells": [
    {
      "cell_type": "markdown",
      "source": [
        "##Perfect Matchings in Cubic Bridgeless Graphs\n",
        "####Auxiliary Code"
      ],
      "metadata": {
        "id": "wfQ-jqtail_M"
      }
    },
    {
      "cell_type": "markdown",
      "source": [
        "###imports and constants"
      ],
      "metadata": {
        "id": "wyB_HGLosNwm"
      }
    },
    {
      "cell_type": "code",
      "source": [
        "!pip install scipy\n",
        "!pip install --upgrade scipy"
      ],
      "metadata": {
        "colab": {
          "base_uri": "https://localhost:8080/"
        },
        "id": "lrxo-Aiawngq",
        "outputId": "6c111f03-7902-4089-b8df-a41d7934c6df"
      },
      "execution_count": 1,
      "outputs": [
        {
          "output_type": "stream",
          "name": "stdout",
          "text": [
            "Requirement already satisfied: scipy in /usr/local/lib/python3.10/dist-packages (1.12.0)\n",
            "Requirement already satisfied: numpy<1.29.0,>=1.22.4 in /usr/local/lib/python3.10/dist-packages (from scipy) (1.25.2)\n",
            "Requirement already satisfied: scipy in /usr/local/lib/python3.10/dist-packages (1.12.0)\n",
            "Requirement already satisfied: numpy<1.29.0,>=1.22.4 in /usr/local/lib/python3.10/dist-packages (from scipy) (1.25.2)\n"
          ]
        }
      ]
    },
    {
      "cell_type": "code",
      "source": [
        "from scipy.optimize import linprog\n",
        "\n",
        "import itertools\n",
        "from copy import deepcopy\n",
        "from collections import defaultdict"
      ],
      "metadata": {
        "id": "5TPZFx9viWwy"
      },
      "execution_count": 2,
      "outputs": []
    },
    {
      "cell_type": "code",
      "source": [
        "epsilon = 10 ** (-12)"
      ],
      "metadata": {
        "id": "04XpT9kWgwDM"
      },
      "execution_count": 3,
      "outputs": []
    },
    {
      "cell_type": "markdown",
      "source": [
        "###paths"
      ],
      "metadata": {
        "id": "BdTwrG-msQRg"
      }
    },
    {
      "cell_type": "code",
      "execution_count": 4,
      "metadata": {
        "id": "jYjTfqppyaHT"
      },
      "outputs": [],
      "source": [
        "non_burl_paths_of_length_9 = [\n",
        "    [[1, 2], [2, 3], [1, 2], [2, 3], [1, 2], [2, 3], [1, 2], [2, 3], [1, 2]]\n",
        "]\n",
        "\n",
        "non_burl_paths_of_length_8 = [\n",
        "    [[1, 2], [2, 3], [1, 2], [2, 3], [1, 2], [2, 3], [1, 2], [2, 3]],\n",
        "    [[1, 2], [2, 3], [1, 2], [2, 3], [1, 3], [1, 2], [1, 3], [1, 2]],\n",
        "    [[1, 2], [2, 3], [1, 3], [2, 3], [1, 2], [1, 3], [1, 2], [2, 3]],\n",
        "]\n",
        "\n",
        "non_burl_paths_of_length_7 = [\n",
        "    [[1, 2], [2, 3], [1, 2], [2, 3], [1, 2], [2, 3], [1, 2]],\n",
        "    [[1, 2], [2, 3], [1, 2], [2, 3], [1, 3], [1, 2], [1, 3]],\n",
        "    [[1, 2], [2, 3], [1, 2], [1, 3], [2, 3], [1, 3], [2, 3]],\n",
        "    [[1, 2], [2, 3], [1, 2], [2, 3], [1, 3], [2, 3], [1, 3]],\n",
        "    [[1, 2], [2, 3], [1, 2], [1, 3], [2, 3], [1, 3], [1, 2]],\n",
        "    [[1, 2], [2, 3], [1, 3], [2, 3], [1, 2], [1, 3], [1, 2]],\n",
        "    [[1, 2], [2, 3], [1, 3], [1, 2], [1, 3], [2, 3], [1, 2]],\n",
        "    [[1, 2], [2, 3], [1, 3], [2, 3], [1, 3], [1, 2], [2, 3]],\n",
        "    [[1, 2], [2, 3], [1, 3], [1, 2], [1, 3], [1, 2], [2, 3]],\n",
        "]\n",
        "\n",
        "non_burl_paths_of_length_6 = [\n",
        "    [[1, 2], [2, 3], [1, 2], [2, 3], [1, 2], [2, 3]],\n",
        "    [[1, 2], [2, 3], [1, 2], [2, 3], [1, 3], [1, 2]],\n",
        "    [[1, 2], [2, 3], [1, 2], [2, 3], [1, 3], [2, 3]],\n",
        "    [[1, 2], [2, 3], [1, 3], [1, 2], [1, 3], [1, 2]],\n",
        "    [[1, 2], [2, 3], [1, 2], [1, 3], [1, 2], [1, 3]],\n",
        "    [[1, 2], [2, 3], [1, 2], [1, 3], [2, 3], [1, 3]],\n",
        "    [[1, 2], [2, 3], [1, 3], [1, 2], [1, 3], [2, 3]],\n",
        "    [[1, 2], [2, 3], [1, 3], [2, 3], [1, 2], [1, 3]],\n",
        "    [[1, 2], [2, 3], [1, 3], [2, 3], [1, 3], [1, 2]],\n",
        "]\n",
        "\n",
        "non_burl_paths_of_length_5 = [\n",
        "    [[1, 2], [2, 3], [1, 2], [2, 3], [1, 2]],\n",
        "    [[1, 2], [2, 3], [1, 2], [2, 3], [1, 3]],\n",
        "    [[1, 2], [2, 3], [1, 3], [2, 3], [1, 3]],\n",
        "    [[1, 2], [2, 3], [1, 2], [1, 3], [1, 2]],\n",
        "    [[1, 2], [2, 3], [1, 2], [1, 3], [2, 3]],\n",
        "    [[1, 2], [2, 3], [1, 3], [1, 2], [1, 3]],\n",
        "    [[1, 2], [2, 3], [1, 3], [2, 3], [1, 2]]\n",
        "]\n",
        "\n",
        "non_burl_paths_of_length_4 = [\n",
        "    [[1, 2], [2, 3], [1, 2], [2, 3]],\n",
        "    [[1, 2], [2, 3], [1, 2], [1, 3]],\n",
        "    [[1, 2], [2, 3], [1, 3], [2, 3]],\n",
        "    [[1, 2], [2, 3], [1, 3], [1, 2]]\n",
        "]\n",
        "\n",
        "non_burl_paths_of_length_3 = [\n",
        "    [[1, 2], [2, 3], [1, 2]],\n",
        "    [[1, 2], [2, 3], [1, 3]]\n",
        "]\n",
        "\n",
        "non_burl_paths_of_length_2 = [\n",
        "    [[1, 2], [2, 3]]\n",
        "]"
      ]
    },
    {
      "cell_type": "code",
      "source": [
        "burl_paths_of_length_5 = [\n",
        "    [[1, 2], [2, 3], [1, 3], [1, 2], [2, 3]]\n",
        "]\n",
        "\n",
        "burl_paths_of_length_6 = [\n",
        "    [[1, 2], [2, 3], [1, 2], [1, 3], [1, 2], [2, 3]],\n",
        "    [[1, 2], [2, 3], [1, 3], [2, 3], [1, 3], [2, 3]],\n",
        "]\n",
        "\n",
        "burl_paths_of_length_7 = [\n",
        "    [[1, 2], [2, 3], [1, 3], [2, 3], [1, 3], [1, 2], [1, 3]],\n",
        "]\n",
        "\n",
        "burl_paths_of_length_8 = [\n",
        "    [[1, 2], [2, 3], [1, 2], [2, 3], [1, 3], [1, 2], [1, 3], [2, 3]],\n",
        "    [[1, 2], [2, 3], [1, 3], [1, 2], [1, 3], [2, 3], [1, 2], [2, 3]],\n",
        "]\n",
        "\n",
        "burl_paths_of_length_10 = [\n",
        "    [[1, 2], [2, 3], [1, 2], [2, 3], [1, 2], [2, 3], [1, 2], [2, 3], [1, 2], [2, 3]]\n",
        "]"
      ],
      "metadata": {
        "id": "2IbamQOd945i"
      },
      "execution_count": 5,
      "outputs": []
    },
    {
      "cell_type": "markdown",
      "source": [
        "###to_graph"
      ],
      "metadata": {
        "id": "OoS5mD14sSv-"
      }
    },
    {
      "cell_type": "code",
      "source": [
        "def first_vertex_at_pos(pos):\n",
        "    return (pos + 1) * 2 - 1\n",
        "\n",
        "def second_vertex_at_pos(pos):\n",
        "    return (pos + 1) * 2\n",
        "\n",
        "def add_edge(graph, v1, v2):\n",
        "    if v1 >= 0: graph[v1].add(v2)\n",
        "    if v2 >= 0: graph[v2].add(v1)\n",
        "\n",
        "def path_to_graph(path):\n",
        "    number_of_vertices = len(path) * 2\n",
        "\n",
        "    graph = dict()\n",
        "    for v in range(1, number_of_vertices + 1):\n",
        "        graph[v] = set()\n",
        "\n",
        "    for i in range(len(path)):\n",
        "\n",
        "        v1 = path[i][0]\n",
        "        v2 = path[i][1]\n",
        "\n",
        "        v_first = i * 2 + 1\n",
        "        v_second = i * 2 + 2\n",
        "\n",
        "        if i < len(path) - 1:\n",
        "            if v1 == path[i + 1][0]:\n",
        "                add_edge(graph, v_first, first_vertex_at_pos(i + 1))\n",
        "            elif v1 == path[i + 1][1]:\n",
        "                add_edge(graph, v_first, second_vertex_at_pos(i + 1))\n",
        "            elif (i < len(path) - 2) and (v1 == path[i + 2][0]):\n",
        "                add_edge(graph, v_first, first_vertex_at_pos(i + 2))\n",
        "            elif (i < len(path) - 2) and (v1 == path[i + 2][1]):\n",
        "                add_edge(graph, v_first, second_vertex_at_pos(i + 2))\n",
        "\n",
        "            if v2 == path[i + 1][0]:\n",
        "                add_edge(graph, v_second, first_vertex_at_pos(i + 1))\n",
        "            elif v2 == path[i + 1][1]:\n",
        "                add_edge(graph, v_second, second_vertex_at_pos(i + 1))\n",
        "            elif (i < len(path) - 2) and (v2 == path[i + 2][0]):\n",
        "                add_edge(graph, v_second, first_vertex_at_pos(i + 2))\n",
        "            elif (i < len(path) - 2) and (v2 == path[i + 2][1]):\n",
        "                add_edge(graph, v_second, second_vertex_at_pos(i + 2))\n",
        "\n",
        "        add_edge(graph, v_first, v_second)\n",
        "    return graph\n",
        "\n",
        "def is_cubic(graph):\n",
        "    count_deg = defaultdict(int)\n",
        "    for v_from in graph:\n",
        "        for v_to in graph[v_from]:\n",
        "            count_deg[v_to] += 1\n",
        "            if v_to < 0:\n",
        "                count_deg[v_from] += 1\n",
        "    for vertex in count_deg:\n",
        "        if vertex >= 0 and count_deg[vertex] != 3:\n",
        "            print(vertex)\n",
        "            print(graph)\n",
        "            return False\n",
        "    return True"
      ],
      "metadata": {
        "id": "uzndr40i6Yod"
      },
      "execution_count": 6,
      "outputs": []
    },
    {
      "cell_type": "markdown",
      "source": [
        "###adding_ends"
      ],
      "metadata": {
        "id": "WNoJeHSHsYxH"
      }
    },
    {
      "cell_type": "code",
      "source": [
        "def add_b3_left(graph):\n",
        "    pairs = [[1, 2], [1, 4], [2, 4]]\n",
        "    new_graphs = []\n",
        "    for pair in pairs:\n",
        "        new_graph = dict()\n",
        "        new_graph[0] = set()\n",
        "        for vertex in graph: new_graph[vertex] = deepcopy(graph[vertex])\n",
        "\n",
        "        add_edge(new_graph, 0, pair[0])\n",
        "        add_edge(new_graph, 0, pair[1])\n",
        "\n",
        "        add_edge(new_graph, 0, -1)\n",
        "        add_edge(new_graph, 7 - pair[0] - pair[1], -2)\n",
        "\n",
        "        new_graphs.append(deepcopy(new_graph))\n",
        "    return new_graphs\n",
        "\n",
        "def add_b3_right(graph):\n",
        "    vertices = sorted(list(graph.keys()))\n",
        "    new_vertex = vertices[-1] + 1\n",
        "\n",
        "    new_graphs = []\n",
        "    for i in range(1, 4):\n",
        "        new_graph = dict()\n",
        "        for vertex in graph: new_graph[vertex] = deepcopy(graph[vertex])\n",
        "        new_graph[new_vertex] = set()\n",
        "\n",
        "        v = len(vertices) - 1\n",
        "        number_of_vertex_of_deg_2 = 0\n",
        "        while number_of_vertex_of_deg_2 < 3:\n",
        "            if len(graph[vertices[v]]) <= 2:\n",
        "                number_of_vertex_of_deg_2 += 1\n",
        "                if number_of_vertex_of_deg_2 == i:\n",
        "                    add_edge(new_graph, vertices[v], -4)\n",
        "                else:\n",
        "                    add_edge(new_graph, vertices[v], new_vertex)\n",
        "            v -= 1\n",
        "\n",
        "        add_edge(new_graph, new_vertex, -5)\n",
        "\n",
        "        new_graphs.append(deepcopy(new_graph))\n",
        "    return new_graphs\n",
        "\n",
        "def add_b3_both_ends(graph):\n",
        "    result = []\n",
        "    for new_graph in add_b3_left(graph):\n",
        "        result += deepcopy(add_b3_right(new_graph))\n",
        "    return result"
      ],
      "metadata": {
        "id": "0aEHjSYMasB6"
      },
      "execution_count": 7,
      "outputs": []
    },
    {
      "cell_type": "code",
      "source": [
        "def add_k4_left(graph):\n",
        "    new_graph = dict()\n",
        "    new_graph[1] = set([-1, 3, 4])\n",
        "    new_graph[2] = set([-2, 3, 5])\n",
        "    new_graph[3] = set([1, 2, 7])\n",
        "    for v in graph:\n",
        "        new_v = v + 3\n",
        "        new_graph[new_v] = set()\n",
        "        for v_to in graph[v]:\n",
        "            new_graph[new_v].add(v_to + 3)\n",
        "        if new_v == 4:\n",
        "            new_graph[new_v].add(1)\n",
        "        elif new_v == 5:\n",
        "            new_graph[new_v].add(2)\n",
        "        elif new_v == 7:\n",
        "            new_graph[new_v].add(3)\n",
        "    return new_graph\n",
        "\n",
        "def add_k4_right(graph):\n",
        "    vs = sorted(graph)\n",
        "    vs[-1]\n",
        "    right = [vs[-1] + 1, vs[-1] + 2, vs[-1] + 3]\n",
        "    new_graph = dict()\n",
        "    r1 = set([-right[0], right[2]])\n",
        "    r2 = set([-right[1], right[2]])\n",
        "    r3 = set([right[0], right[1]])\n",
        "    for v in graph:\n",
        "        new_graph[v] = deepcopy(graph[v])\n",
        "        if (len(graph[v]) < 3):\n",
        "            if (v == vs[-3]) or (v == vs[-4]):\n",
        "                new_graph[v].add(right[2])\n",
        "                r3.add(v)\n",
        "            elif v == vs[-2]:\n",
        "                new_graph[v].add(right[0])\n",
        "                r1.add(v)\n",
        "            elif v == vs[-1]:\n",
        "                new_graph[v].add(right[1])\n",
        "                r2.add(v)\n",
        "    new_graph[right[0]] = r1\n",
        "    new_graph[right[1]] = r2\n",
        "    new_graph[right[2]] = r3\n",
        "\n",
        "    return new_graph\n",
        "\n",
        "def add_k4_both_ends(graph):\n",
        "    new_graph = add_k4_right(add_k4_left(graph))\n",
        "    if is_cubic(new_graph):\n",
        "        return new_graph\n",
        "    else:\n",
        "        raise Exception(f\"Not Cubic: {new_graph}\")"
      ],
      "metadata": {
        "id": "FdoDtjIuERzm"
      },
      "execution_count": 8,
      "outputs": []
    },
    {
      "cell_type": "code",
      "source": [
        "def add_empty_ends_left(g):\n",
        "    graph = deepcopy(g)\n",
        "    graph[1].add(-1)\n",
        "    graph[2].add(-2)\n",
        "    graph[4].add(-4)\n",
        "    return graph\n",
        "\n",
        "def add_empty_ends_right(g):\n",
        "    graph = deepcopy(g)\n",
        "    vertices = sorted(graph)\n",
        "    i = len(vertices) - 1\n",
        "    count = 0\n",
        "    while count < 3:\n",
        "        if len(graph[vertices[i]]) < 3:\n",
        "            if -vertices[i] not in graph[vertices[i]]:\n",
        "                graph[vertices[i]].add(-vertices[i])\n",
        "            else:\n",
        "                graph[vertices[i]].add(-100 -vertices[i])\n",
        "            count += 1\n",
        "        i -= 1\n",
        "    return graph\n",
        "\n",
        "def add_empty_both_sides(graph):\n",
        "    graph = add_empty_ends_right(add_empty_ends_left(graph))\n",
        "    if is_cubic(graph):\n",
        "        return graph\n",
        "    else:\n",
        "        raise Exception(f\"not cubic: {graph}\")"
      ],
      "metadata": {
        "id": "477pPUJd7AuW"
      },
      "execution_count": 9,
      "outputs": []
    },
    {
      "cell_type": "markdown",
      "source": [
        "###finding_perfect_matchings"
      ],
      "metadata": {
        "id": "Xk46VeTqsdz0"
      }
    },
    {
      "cell_type": "code",
      "source": [
        "def matchings_in_graph(graph, covered):\n",
        "    matchings = []\n",
        "    for v_from in graph:\n",
        "        if v_from not in covered:\n",
        "            covered.add(v_from)\n",
        "            for v_to in graph[v_from]:\n",
        "                if v_to not in covered:\n",
        "                    new_covered = deepcopy(covered)\n",
        "                    new_covered.add(v_to)\n",
        "                    matchings.append([[v_from, v_to]])\n",
        "\n",
        "                    for matching in matchings_in_graph(graph, new_covered):\n",
        "                        matchings.append([[v_from, v_to]] + matching)\n",
        "            return matchings\n",
        "    return []\n",
        "\n",
        "def is_perfect(graph, matching):\n",
        "    vertices = list(graph.keys())\n",
        "\n",
        "    covered_vertices = set()\n",
        "    for edge in matching:\n",
        "        v1 = edge[0]\n",
        "        v2 = edge[1]\n",
        "        if ((v1 in covered_vertices) and (v1 >= 0)) or ((v2 in covered_vertices) and (v2 >= 0)):\n",
        "            print(\"NOT A MATCHING:\\n\", matching)\n",
        "            return False\n",
        "        covered_vertices.add(v1)\n",
        "        covered_vertices.add(v2)\n",
        "    for vertex in vertices:\n",
        "        if vertex not in covered_vertices:\n",
        "            return False\n",
        "    return True\n",
        "\n",
        "\n",
        "\n",
        "def perfect_matchings(graph):\n",
        "    pm = []\n",
        "    for m in matchings_in_graph(graph, set()):\n",
        "        if is_perfect(graph, m):\n",
        "            pm.append(m)\n",
        "    return pm\n"
      ],
      "metadata": {
        "id": "xQfSTe96j1wj"
      },
      "execution_count": 10,
      "outputs": []
    },
    {
      "cell_type": "markdown",
      "source": [
        "###alternating_cycles"
      ],
      "metadata": {
        "id": "3dmyWYOaxbNO"
      }
    },
    {
      "cell_type": "code",
      "source": [
        "def in_matching(edge, matching):\n",
        "    if (edge in matching) or ([edge[1], edge[0]] in matching):\n",
        "        return 1\n",
        "    else:\n",
        "        return -1\n",
        "\n",
        "def edge_in_cycle(edge, cycle):\n",
        "    return (edge in cycle) or ([edge[1], edge[0]] in cycle)\n",
        "\n",
        "def vertex_in_cycle(vertex, cycle):\n",
        "    for edge in cycle:\n",
        "        if vertex in edge:\n",
        "            return True\n",
        "    return False\n",
        "\n",
        "def is_alternating(cycle, matching):\n",
        "    prev = 0\n",
        "    for i in range(1, len(cycle)):\n",
        "        edge = [cycle[i - 1], cycle[i]]\n",
        "        cur = in_matching(edge, matching)\n",
        "        if cur == prev:\n",
        "            return False\n",
        "        else:\n",
        "            prev = cur\n",
        "    return True\n",
        "\n",
        "def find_cycles(graph):\n",
        "    cycles = []\n",
        "    visited = set()\n",
        "\n",
        "    def dfs(node, path):\n",
        "        #print(path)\n",
        "        visited.add(node)\n",
        "        for neighbor in graph[node]:\n",
        "            if ((neighbor not in path) or (neighbor == path[0])) and (neighbor in graph):\n",
        "                if neighbor in visited:\n",
        "                    cycles.append(path + [neighbor])\n",
        "                else:\n",
        "                    dfs(neighbor, path + [neighbor])\n",
        "        visited.remove(node)\n",
        "\n",
        "    for node in graph:\n",
        "        dfs(node, [node])\n",
        "\n",
        "    return cycles\n",
        "\n",
        "def find_alternating_cycles(graph, matching):\n",
        "    cycles = find_cycles(graph)\n",
        "    starting_vertices_covered = set()\n",
        "    alternating = []\n",
        "    for c in cycles:\n",
        "        if (len(c) > 3) and (len(c) % 2 == 1):\n",
        "            if is_alternating(c, matching):\n",
        "                starting_vertices_covered.add(c[0])\n",
        "                add = True\n",
        "                for i in range(1, len(c) - 1):\n",
        "                    if c[i] in starting_vertices_covered:\n",
        "                        add = False\n",
        "                if c[::-1] in alternating:\n",
        "                    add = False\n",
        "                if add:\n",
        "                    alternating.append(c)\n",
        "    return alternating\n",
        "\n",
        "def is_disjoint(c1, c2):\n",
        "    set1 = set(c1)\n",
        "    set2 = set(c2)\n",
        "    for v in set2:\n",
        "        if v in set1: return False\n",
        "    return True\n",
        "\n",
        "def possible_add(cycle, to_cycles):\n",
        "    for c in to_cycles:\n",
        "        if not is_disjoint(c, cycle): return False\n",
        "    return True\n",
        "\n",
        "def maximum_disjoint_alternating_cycles(max, C):\n",
        "    if len(C) == 0: return max\n",
        "    if possible_add(C[0], max):\n",
        "        v1 = maximum_disjoint_alternating_cycles(max+[C[0]], C[1:])\n",
        "        v2 = maximum_disjoint_alternating_cycles(max, C[1:])\n",
        "        if len(v1) > len(v2): return v1\n",
        "        else: return v2\n",
        "    else: return maximum_disjoint_alternating_cycles(max, C[1:])\n",
        "\n",
        "def get_largest_set_of_disjoint_alternating_cycles(graph, matching):\n",
        "    all_alternating_cycles = find_alternating_cycles(graph, matching)\n",
        "    return maximum_disjoint_alternating_cycles([], all_alternating_cycles)"
      ],
      "metadata": {
        "id": "pbxZNuCfxf7_"
      },
      "execution_count": 11,
      "outputs": []
    },
    {
      "cell_type": "markdown",
      "source": [
        "###LP"
      ],
      "metadata": {
        "id": "8sFvoEqTxgZ0"
      }
    },
    {
      "cell_type": "code",
      "source": [
        "def unique_edges(graph):\n",
        "    edges = []\n",
        "    for v_from in graph:\n",
        "        for v_to in graph[v_from]:\n",
        "            edge = [v_from, v_to]\n",
        "            rev_edge = [v_to, v_from]\n",
        "            if (edge not in edges) and (rev_edge not in edges):\n",
        "                edges.append(edge)\n",
        "    return edges"
      ],
      "metadata": {
        "id": "AiPssmm-1Uq0"
      },
      "execution_count": 12,
      "outputs": []
    },
    {
      "cell_type": "code",
      "source": [
        "def is_burl(graph):\n",
        "    M = perfect_matchings(graph)\n",
        "    number_of_x = len(M)\n",
        "    c = []\n",
        "    for m in M:\n",
        "        cy_set = get_largest_set_of_disjoint_alternating_cycles(graph, m)\n",
        "        c.append(len(cy_set))\n",
        "\n",
        "    bounds = [(0, 1) for i in range(len(M))]\n",
        "\n",
        "    v1 = [1 for i in range(len(M))] #sum of all probabilities\n",
        "    A_eq = []\n",
        "    A_eq.append(v1)\n",
        "    for edge in unique_edges(graph):\n",
        "        row = []\n",
        "        for m in M:\n",
        "            if in_matching(edge, m) == 1:\n",
        "                row.append(1)\n",
        "            else:\n",
        "                row.append(0)\n",
        "        A_eq.append(row)\n",
        "\n",
        "    b_eq = [1/3 for i in range(len(A_eq))]\n",
        "    b_eq[0] = 1 #sum of all probabilities equals 1\n",
        "\n",
        "    res = linprog(c, A_eq=A_eq, b_eq=b_eq, bounds=bounds)\n",
        "    if res.success:\n",
        "        if (res.fun >= (1/3 - epsilon)):\n",
        "            print(\"Graph is a burl, minimum expectancy:\", round(res.fun, 9))\n",
        "            return True\n",
        "        else:\n",
        "            print(\"Graph is not a burl, minimum expectancy:\", round(res.fun, 9))\n",
        "            return False\n",
        "    else:\n",
        "        raise ValueError(f\"Does Not Compute, matrix A: {A_eq}\")"
      ],
      "metadata": {
        "id": "5x6SIpC8xiQp"
      },
      "execution_count": 13,
      "outputs": []
    },
    {
      "cell_type": "markdown",
      "source": [
        "###checking_graphs"
      ],
      "metadata": {
        "id": "9ifCKLObsiR2"
      }
    },
    {
      "cell_type": "markdown",
      "source": [
        "####4-cycle"
      ],
      "metadata": {
        "id": "_Qmpw9GI-i8x"
      }
    },
    {
      "cell_type": "code",
      "source": [
        "graph = {\n",
        "    1 : [-1, 2, 3],\n",
        "    2 : [-2, 1, 4],\n",
        "    3 : [-3, 1, 4],\n",
        "    4 : [-4, 2, 3]\n",
        "}\n",
        "print(graph)\n",
        "print(\"Graph is cubic:\", is_cubic(graph))\n",
        "print(\"Unique edges:\", unique_edges(graph))\n",
        "for m in perfect_matchings(graph):\n",
        "    print(\"\\n--------------------\\n\")\n",
        "    d_alt_cycles_set = get_largest_set_of_disjoint_alternating_cycles(graph, m)\n",
        "    d_alt_cycles_count = len(d_alt_cycles_set)\n",
        "    print(\"Matching:\", m)\n",
        "    print(\"Number of disjoint alternating cycles:\", d_alt_cycles_count)\n",
        "    if d_alt_cycles_count:\n",
        "        print(\"Cycles:\")\n",
        "        for c in d_alt_cycles_set:\n",
        "            print(c)"
      ],
      "metadata": {
        "colab": {
          "base_uri": "https://localhost:8080/"
        },
        "id": "GLBY9IB4yYI7",
        "outputId": "51ed363c-28dd-4264-9ec5-235a504d2efc"
      },
      "execution_count": 14,
      "outputs": [
        {
          "output_type": "stream",
          "name": "stdout",
          "text": [
            "{1: [-1, 2, 3], 2: [-2, 1, 4], 3: [-3, 1, 4], 4: [-4, 2, 3]}\n",
            "Graph is cubic: True\n",
            "Unique edges: [[1, -1], [1, 2], [1, 3], [2, -2], [2, 4], [3, -3], [3, 4], [4, -4]]\n",
            "\n",
            "--------------------\n",
            "\n",
            "Matching: [[1, -1], [2, -2], [3, -3], [4, -4]]\n",
            "Number of disjoint alternating cycles: 0\n",
            "\n",
            "--------------------\n",
            "\n",
            "Matching: [[1, -1], [2, -2], [3, 4]]\n",
            "Number of disjoint alternating cycles: 0\n",
            "\n",
            "--------------------\n",
            "\n",
            "Matching: [[1, -1], [2, 4], [3, -3]]\n",
            "Number of disjoint alternating cycles: 0\n",
            "\n",
            "--------------------\n",
            "\n",
            "Matching: [[1, 2], [3, -3], [4, -4]]\n",
            "Number of disjoint alternating cycles: 0\n",
            "\n",
            "--------------------\n",
            "\n",
            "Matching: [[1, 2], [3, 4]]\n",
            "Number of disjoint alternating cycles: 1\n",
            "Cycles:\n",
            "[1, 2, 4, 3, 1]\n",
            "\n",
            "--------------------\n",
            "\n",
            "Matching: [[1, 3], [2, -2], [4, -4]]\n",
            "Number of disjoint alternating cycles: 0\n",
            "\n",
            "--------------------\n",
            "\n",
            "Matching: [[1, 3], [2, 4]]\n",
            "Number of disjoint alternating cycles: 1\n",
            "Cycles:\n",
            "[1, 2, 4, 3, 1]\n"
          ]
        }
      ]
    },
    {
      "cell_type": "code",
      "source": [
        "is_burl(graph)"
      ],
      "metadata": {
        "colab": {
          "base_uri": "https://localhost:8080/"
        },
        "id": "0otQUJMh0QYY",
        "outputId": "bab42e8a-6cb4-4a8d-ce45-955fcd6dca30"
      },
      "execution_count": 15,
      "outputs": [
        {
          "output_type": "stream",
          "name": "stdout",
          "text": [
            "Graph is a burl, minimum expectancy: 0.333333333\n"
          ]
        },
        {
          "output_type": "execute_result",
          "data": {
            "text/plain": [
              "True"
            ]
          },
          "metadata": {},
          "execution_count": 15
        }
      ]
    },
    {
      "cell_type": "markdown",
      "source": [
        "####checking regular paths"
      ],
      "metadata": {
        "id": "JtiietIy-ojh"
      }
    },
    {
      "cell_type": "markdown",
      "source": [
        "#####not burls"
      ],
      "metadata": {
        "id": "9g8xLxKnRhC2"
      }
    },
    {
      "cell_type": "code",
      "source": [
        "for path in non_burl_paths_of_length_2:\n",
        "    graph = add_empty_both_sides(path_to_graph(path))\n",
        "    if is_burl(graph):\n",
        "        print(graph)"
      ],
      "metadata": {
        "colab": {
          "base_uri": "https://localhost:8080/"
        },
        "id": "UI7Qh8Hg-4I8",
        "outputId": "e9a17aee-fc13-4c95-8bf5-a1fbc43b96d8"
      },
      "execution_count": 16,
      "outputs": [
        {
          "output_type": "stream",
          "name": "stdout",
          "text": [
            "Graph is not a burl, minimum expectancy: 0.0\n"
          ]
        }
      ]
    },
    {
      "cell_type": "code",
      "source": [
        "for path in non_burl_paths_of_length_3:\n",
        "    graph = add_empty_both_sides(path_to_graph(path))\n",
        "    if is_burl(graph):\n",
        "        print(graph)"
      ],
      "metadata": {
        "colab": {
          "base_uri": "https://localhost:8080/"
        },
        "id": "owIcYLxUAEE_",
        "outputId": "0c94c428-5395-41ca-ba51-a49da709d2ea"
      },
      "execution_count": 17,
      "outputs": [
        {
          "output_type": "stream",
          "name": "stdout",
          "text": [
            "Graph is not a burl, minimum expectancy: 0.0\n",
            "Graph is not a burl, minimum expectancy: 0.0\n"
          ]
        }
      ]
    },
    {
      "cell_type": "code",
      "source": [
        "for path in non_burl_paths_of_length_4:\n",
        "    graph = add_empty_both_sides(path_to_graph(path))\n",
        "    if is_burl(graph):\n",
        "        print(graph)"
      ],
      "metadata": {
        "colab": {
          "base_uri": "https://localhost:8080/"
        },
        "id": "EMco1ZeUAIPS",
        "outputId": "fe05ad4a-6490-4b05-fd04-d1e074cee5a2"
      },
      "execution_count": 18,
      "outputs": [
        {
          "output_type": "stream",
          "name": "stdout",
          "text": [
            "Graph is not a burl, minimum expectancy: 0.0\n",
            "Graph is not a burl, minimum expectancy: 0.0\n",
            "Graph is not a burl, minimum expectancy: 0.0\n",
            "Graph is not a burl, minimum expectancy: 0.0\n"
          ]
        }
      ]
    },
    {
      "cell_type": "code",
      "source": [
        "for path in non_burl_paths_of_length_5:\n",
        "    graph = add_empty_both_sides(path_to_graph(path))\n",
        "    if is_burl(graph):\n",
        "        print(graph)"
      ],
      "metadata": {
        "colab": {
          "base_uri": "https://localhost:8080/"
        },
        "id": "Zt9tUrL0AK0F",
        "outputId": "1d37d8fd-9eda-4bf8-d18e-b7c89588bc58"
      },
      "execution_count": 19,
      "outputs": [
        {
          "output_type": "stream",
          "name": "stdout",
          "text": [
            "Graph is not a burl, minimum expectancy: 0.0\n",
            "Graph is not a burl, minimum expectancy: 0.0\n",
            "Graph is not a burl, minimum expectancy: 0.0\n",
            "Graph is not a burl, minimum expectancy: 0.0\n",
            "Graph is not a burl, minimum expectancy: 0.0\n",
            "Graph is not a burl, minimum expectancy: 0.0\n",
            "Graph is not a burl, minimum expectancy: 0.0\n"
          ]
        }
      ]
    },
    {
      "cell_type": "code",
      "source": [
        "for path in non_burl_paths_of_length_6:\n",
        "    graph = add_empty_both_sides(path_to_graph(path))\n",
        "    if is_burl(graph):\n",
        "        print(graph)"
      ],
      "metadata": {
        "colab": {
          "base_uri": "https://localhost:8080/"
        },
        "id": "qd4jqKEo1fsD",
        "outputId": "1f145865-84e1-4d49-a292-b4b616ae2a1f"
      },
      "execution_count": 20,
      "outputs": [
        {
          "output_type": "stream",
          "name": "stdout",
          "text": [
            "Graph is not a burl, minimum expectancy: 0.0\n",
            "Graph is not a burl, minimum expectancy: 0.0\n",
            "Graph is not a burl, minimum expectancy: 0.0\n",
            "Graph is not a burl, minimum expectancy: 0.0\n",
            "Graph is not a burl, minimum expectancy: 0.0\n",
            "Graph is not a burl, minimum expectancy: 0.0\n",
            "Graph is not a burl, minimum expectancy: 0.0\n",
            "Graph is not a burl, minimum expectancy: 0.0\n",
            "Graph is not a burl, minimum expectancy: 0.0\n"
          ]
        }
      ]
    },
    {
      "cell_type": "code",
      "source": [
        "for path in non_burl_paths_of_length_7:\n",
        "    graph = add_empty_both_sides(path_to_graph(path))\n",
        "    if is_burl(graph):\n",
        "        print(graph)"
      ],
      "metadata": {
        "colab": {
          "base_uri": "https://localhost:8080/"
        },
        "id": "SX6BKkTaRXAJ",
        "outputId": "a6aea880-06e5-49d2-f7a1-0ff5a941bbb9"
      },
      "execution_count": 21,
      "outputs": [
        {
          "output_type": "stream",
          "name": "stdout",
          "text": [
            "Graph is not a burl, minimum expectancy: 0.0\n",
            "Graph is not a burl, minimum expectancy: 0.0\n",
            "Graph is not a burl, minimum expectancy: 0.0\n",
            "Graph is not a burl, minimum expectancy: 0.166666667\n",
            "Graph is not a burl, minimum expectancy: 0.0\n",
            "Graph is not a burl, minimum expectancy: 0.0\n",
            "Graph is not a burl, minimum expectancy: 0.0\n",
            "Graph is not a burl, minimum expectancy: 0.0\n",
            "Graph is not a burl, minimum expectancy: 0.0\n"
          ]
        }
      ]
    },
    {
      "cell_type": "code",
      "source": [
        "for path in non_burl_paths_of_length_8:\n",
        "    graph = add_empty_both_sides(path_to_graph(path))\n",
        "    if is_burl(graph):\n",
        "        print(graph)"
      ],
      "metadata": {
        "colab": {
          "base_uri": "https://localhost:8080/"
        },
        "id": "7Lvy2x_aRZ3D",
        "outputId": "dc71b79c-dffc-4ec8-d848-80f23cfa038c"
      },
      "execution_count": 22,
      "outputs": [
        {
          "output_type": "stream",
          "name": "stdout",
          "text": [
            "Graph is not a burl, minimum expectancy: 0.0\n",
            "Graph is not a burl, minimum expectancy: 0.0\n",
            "Graph is not a burl, minimum expectancy: 0.0\n"
          ]
        }
      ]
    },
    {
      "cell_type": "code",
      "source": [
        "for path in non_burl_paths_of_length_9:\n",
        "    graph = add_empty_both_sides(path_to_graph(path))\n",
        "    if is_burl(graph):\n",
        "        print(graph)"
      ],
      "metadata": {
        "colab": {
          "base_uri": "https://localhost:8080/"
        },
        "id": "Yceg2h-WDbWx",
        "outputId": "85a53c50-93e1-46fb-b048-0b7f2f06c5ae"
      },
      "execution_count": 23,
      "outputs": [
        {
          "output_type": "stream",
          "name": "stdout",
          "text": [
            "Graph is not a burl, minimum expectancy: 0.0\n"
          ]
        }
      ]
    },
    {
      "cell_type": "markdown",
      "source": [
        "#####burls"
      ],
      "metadata": {
        "id": "YNbOfeOcRlf5"
      }
    },
    {
      "cell_type": "code",
      "source": [
        "for path in burl_paths_of_length_5:\n",
        "    graph = add_empty_both_sides(path_to_graph(path))\n",
        "    if not is_burl(graph):\n",
        "        print(\"Graph:\\n\", graph, \"\\n\")"
      ],
      "metadata": {
        "colab": {
          "base_uri": "https://localhost:8080/"
        },
        "id": "ntaSowR7-K0M",
        "outputId": "707a6821-effb-4c78-f380-3c3c5e538d1c"
      },
      "execution_count": 24,
      "outputs": [
        {
          "output_type": "stream",
          "name": "stdout",
          "text": [
            "Graph is a burl, minimum expectancy: 0.333333333\n"
          ]
        }
      ]
    },
    {
      "cell_type": "code",
      "source": [
        "for path in burl_paths_of_length_6:\n",
        "    graph = add_empty_both_sides(path_to_graph(path))\n",
        "    if not is_burl(graph):\n",
        "        print(\"Graph:\\n\", graph, \"\\n\")"
      ],
      "metadata": {
        "colab": {
          "base_uri": "https://localhost:8080/"
        },
        "id": "kBOODRaCBXji",
        "outputId": "2bb1aa7b-3258-4e7c-fd2a-6c8bf9db6e2e"
      },
      "execution_count": 25,
      "outputs": [
        {
          "output_type": "stream",
          "name": "stdout",
          "text": [
            "Graph is a burl, minimum expectancy: 0.333333333\n",
            "Graph is a burl, minimum expectancy: 0.333333333\n"
          ]
        }
      ]
    },
    {
      "cell_type": "code",
      "source": [
        "for path in burl_paths_of_length_7:\n",
        "    graph = add_empty_both_sides(path_to_graph(path))\n",
        "    if not is_burl(graph):\n",
        "        print(\"Graph:\\n\", graph, \"\\n\")"
      ],
      "metadata": {
        "colab": {
          "base_uri": "https://localhost:8080/"
        },
        "id": "BOgtiFRF1wBZ",
        "outputId": "b9b9ecc8-fcbe-4399-f195-5b0f46af74bb"
      },
      "execution_count": 26,
      "outputs": [
        {
          "output_type": "stream",
          "name": "stdout",
          "text": [
            "Graph is a burl, minimum expectancy: 0.333333333\n"
          ]
        }
      ]
    },
    {
      "cell_type": "code",
      "source": [
        "for path in burl_paths_of_length_8:\n",
        "    graph = add_empty_both_sides(path_to_graph(path))\n",
        "    if not is_burl(graph):\n",
        "        print(\"Graph:\\n\", graph, \"\\n\")"
      ],
      "metadata": {
        "colab": {
          "base_uri": "https://localhost:8080/"
        },
        "id": "oz3Oh6D5SFgL",
        "outputId": "ba5881b3-95f4-433c-af65-60fa2b9ad308"
      },
      "execution_count": 27,
      "outputs": [
        {
          "output_type": "stream",
          "name": "stdout",
          "text": [
            "Graph is a burl, minimum expectancy: 0.333333333\n",
            "Graph is a burl, minimum expectancy: 0.333333333\n"
          ]
        }
      ]
    },
    {
      "cell_type": "code",
      "source": [
        "for path in burl_paths_of_length_10:\n",
        "    graph = add_empty_both_sides(path_to_graph(path))\n",
        "    if not is_burl(graph):\n",
        "        print(\"Graph:\\n\", graph, \"\\n\")"
      ],
      "metadata": {
        "colab": {
          "base_uri": "https://localhost:8080/"
        },
        "id": "C6_VheFtDIdF",
        "outputId": "ef18245b-bfc4-46de-c130-c7ff9653c972"
      },
      "execution_count": 28,
      "outputs": [
        {
          "output_type": "stream",
          "name": "stdout",
          "text": [
            "Graph is a burl, minimum expectancy: 0.333333333\n"
          ]
        }
      ]
    },
    {
      "cell_type": "markdown",
      "source": [
        "####paths with 2-edge-cuts"
      ],
      "metadata": {
        "id": "zo5WXL3sAULP"
      }
    },
    {
      "cell_type": "code",
      "source": [
        "print(\"\\nPaths of lenth 7 with vertices on both ends such that hub of G at those vertices is isomorphic to K4\")\n",
        "for path in non_burl_paths_of_length_5:\n",
        "    graph = add_k4_both_ends(path_to_graph(path))\n",
        "    if not is_burl(graph):\n",
        "        print(\"Graph:\\n\", graph, \"\\n\")\n",
        "\n",
        "print(\"\\nPaths of lenth 6 with vertices on both ends such that hub of G at those vertices is isomorphic to K4\")\n",
        "for path in non_burl_paths_of_length_4:\n",
        "    graph = add_k4_both_ends(path_to_graph(path))\n",
        "    if not is_burl(graph):\n",
        "        print(\"Graph:\\n\", graph, \"\\n\")\n",
        "\n",
        "print(\"\\nPaths of lenth 5 with vertices on both ends such that hub of G at those vertices is isomorphic to K4\")\n",
        "for path in non_burl_paths_of_length_3:\n",
        "    graph = add_k4_both_ends(path_to_graph(path))\n",
        "    if not is_burl(graph):\n",
        "        print(\"Graph:\\n\", graph, \"\\n\")\n",
        "\n",
        "print(\"\\nPaths of lenth 4 with vertices on both ends such that hub of G at those vertices is isomorphic to K4\")\n",
        "for path in non_burl_paths_of_length_2:\n",
        "    graph = add_k4_both_ends(path_to_graph(path))\n",
        "    if not is_burl(graph):\n",
        "        print(\"Graph:\\n\", graph, \"\\n\")"
      ],
      "metadata": {
        "colab": {
          "base_uri": "https://localhost:8080/"
        },
        "id": "R-vTdWIwvbI4",
        "outputId": "67b9e079-79fc-4d1f-c5fb-30011ab9fd00"
      },
      "execution_count": 29,
      "outputs": [
        {
          "output_type": "stream",
          "name": "stdout",
          "text": [
            "\n",
            "Paths of lenth 7 with vertices on both ends such that hub of G at those vertices is isomorphic to K4\n",
            "Graph is a burl, minimum expectancy: 1.0\n",
            "Graph is a burl, minimum expectancy: 0.833333333\n",
            "Graph is a burl, minimum expectancy: 0.833333333\n",
            "Graph is a burl, minimum expectancy: 1.0\n",
            "Graph is a burl, minimum expectancy: 0.833333333\n",
            "Graph is a burl, minimum expectancy: 0.833333333\n",
            "Graph is a burl, minimum expectancy: 0.666666667\n",
            "\n",
            "Paths of lenth 6 with vertices on both ends such that hub of G at those vertices is isomorphic to K4\n",
            "Graph is a burl, minimum expectancy: 0.666666667\n",
            "Graph is a burl, minimum expectancy: 0.833333333\n",
            "Graph is a burl, minimum expectancy: 0.833333333\n",
            "Graph is a burl, minimum expectancy: 1.0\n",
            "\n",
            "Paths of lenth 5 with vertices on both ends such that hub of G at those vertices is isomorphic to K4\n",
            "Graph is a burl, minimum expectancy: 1.0\n",
            "Graph is a burl, minimum expectancy: 0.666666667\n",
            "\n",
            "Paths of lenth 4 with vertices on both ends such that hub of G at those vertices is isomorphic to K4\n",
            "Graph is a burl, minimum expectancy: 0.333333333\n"
          ]
        }
      ]
    },
    {
      "cell_type": "code",
      "source": [
        "print(\"\\nPaths of lenth 7 with vertices on both ends such that hub of G at those vertices is isomorphic to K4\")\n",
        "for path in non_burl_paths_of_length_5:\n",
        "    for graph in add_b3_both_ends(path_to_graph(path)):\n",
        "        if not is_burl(graph):\n",
        "            print(\"Graph:\\n\", graph, \"\\n\")\n",
        "\n",
        "print(\"\\nPaths of lenth 6 with vertices on both ends such that hub of G at those vertices is isomorphic to K4\")\n",
        "for path in non_burl_paths_of_length_4:\n",
        "    for graph in add_b3_both_ends(path_to_graph(path)):\n",
        "        if not is_burl(graph):\n",
        "            print(\"Graph:\\n\", graph, \"\\n\")\n",
        "\n",
        "print(\"\\nPaths of lenth 5 with vertices on both ends such that hub of G at those vertices is isomorphic to K4\")\n",
        "for path in non_burl_paths_of_length_3:\n",
        "    for graph in add_b3_both_ends(path_to_graph(path)):\n",
        "        if not is_burl(graph):\n",
        "            print(\"Graph:\\n\", graph, \"\\n\")\n",
        "\n",
        "print(\"\\nPaths of lenth 4 with vertices on both ends such that hub of G at those vertices is isomorphic to K4\")\n",
        "for path in non_burl_paths_of_length_2:\n",
        "    for graph in add_b3_both_ends(path_to_graph(path)):\n",
        "        if not is_burl(graph):\n",
        "            print(\"Graph:\\n\", graph, \"\\n\")"
      ],
      "metadata": {
        "colab": {
          "base_uri": "https://localhost:8080/"
        },
        "id": "iSTd4Blz4XCd",
        "outputId": "54b1b3af-cd2e-4a54-8d8e-e46009c7d23c"
      },
      "execution_count": 30,
      "outputs": [
        {
          "output_type": "stream",
          "name": "stdout",
          "text": [
            "\n",
            "Paths of lenth 7 with vertices on both ends such that hub of G at those vertices is isomorphic to K4\n",
            "Graph is a burl, minimum expectancy: 0.666666667\n",
            "Graph is a burl, minimum expectancy: 1.0\n",
            "Graph is a burl, minimum expectancy: 0.333333333\n",
            "Graph is a burl, minimum expectancy: 1.0\n",
            "Graph is a burl, minimum expectancy: 0.333333333\n",
            "Graph is a burl, minimum expectancy: 0.666666667\n",
            "Graph is a burl, minimum expectancy: 0.333333333\n",
            "Graph is a burl, minimum expectancy: 0.666666667\n",
            "Graph is a burl, minimum expectancy: 1.0\n",
            "Graph is a burl, minimum expectancy: 0.666666667\n",
            "Graph is a burl, minimum expectancy: 0.666666667\n",
            "Graph is a burl, minimum expectancy: 1.0\n",
            "Graph is a burl, minimum expectancy: 1.0\n",
            "Graph is a burl, minimum expectancy: 0.666666667\n",
            "Graph is a burl, minimum expectancy: 0.666666667\n",
            "Graph is a burl, minimum expectancy: 0.333333333\n",
            "Graph is a burl, minimum expectancy: 1.0\n",
            "Graph is a burl, minimum expectancy: 0.666666667\n",
            "Graph is a burl, minimum expectancy: 0.666666667\n",
            "Graph is a burl, minimum expectancy: 0.666666667\n",
            "Graph is a burl, minimum expectancy: 1.0\n",
            "Graph is a burl, minimum expectancy: 1.0\n",
            "Graph is a burl, minimum expectancy: 0.333333333\n",
            "Graph is a burl, minimum expectancy: 0.666666667\n",
            "Graph is a burl, minimum expectancy: 0.666666667\n",
            "Graph is a burl, minimum expectancy: 1.0\n",
            "Graph is a burl, minimum expectancy: 0.666666667\n",
            "Graph is a burl, minimum expectancy: 1.0\n",
            "Graph is a burl, minimum expectancy: 1.0\n",
            "Graph is a burl, minimum expectancy: 1.0\n",
            "Graph is a burl, minimum expectancy: 0.666666667\n",
            "Graph is a burl, minimum expectancy: 0.666666667\n",
            "Graph is a burl, minimum expectancy: 1.0\n",
            "Graph is a burl, minimum expectancy: 0.833333333\n",
            "Graph is a burl, minimum expectancy: 0.666666667\n",
            "Graph is a burl, minimum expectancy: 1.0\n",
            "Graph is a burl, minimum expectancy: 1.0\n",
            "Graph is a burl, minimum expectancy: 0.666666667\n",
            "Graph is a burl, minimum expectancy: 1.0\n",
            "Graph is a burl, minimum expectancy: 0.666666667\n",
            "Graph is a burl, minimum expectancy: 0.666666667\n",
            "Graph is a burl, minimum expectancy: 0.666666667\n",
            "Graph is a burl, minimum expectancy: 0.666666667\n",
            "Graph is a burl, minimum expectancy: 1.0\n",
            "Graph is a burl, minimum expectancy: 0.666666667\n",
            "Graph is a burl, minimum expectancy: 0.666666667\n",
            "Graph is a burl, minimum expectancy: 0.666666667\n",
            "Graph is a burl, minimum expectancy: 1.0\n",
            "Graph is a burl, minimum expectancy: 0.666666667\n",
            "Graph is a burl, minimum expectancy: 0.666666667\n",
            "Graph is a burl, minimum expectancy: 1.0\n",
            "Graph is a burl, minimum expectancy: 1.0\n",
            "Graph is a burl, minimum expectancy: 0.666666667\n",
            "Graph is a burl, minimum expectancy: 0.666666667\n",
            "Graph is a burl, minimum expectancy: 0.666666667\n",
            "Graph is a burl, minimum expectancy: 0.666666667\n",
            "Graph is a burl, minimum expectancy: 0.666666667\n",
            "Graph is a burl, minimum expectancy: 1.0\n",
            "Graph is a burl, minimum expectancy: 0.666666667\n",
            "Graph is a burl, minimum expectancy: 0.666666667\n",
            "Graph is a burl, minimum expectancy: 0.666666667\n",
            "Graph is a burl, minimum expectancy: 1.0\n",
            "Graph is a burl, minimum expectancy: 0.666666667\n",
            "\n",
            "Paths of lenth 6 with vertices on both ends such that hub of G at those vertices is isomorphic to K4\n",
            "Graph is a burl, minimum expectancy: 0.333333333\n",
            "Graph is a burl, minimum expectancy: 1.0\n",
            "Graph is a burl, minimum expectancy: 0.666666667\n",
            "Graph is a burl, minimum expectancy: 0.666666667\n",
            "Graph is a burl, minimum expectancy: 0.333333333\n",
            "Graph is a burl, minimum expectancy: 1.0\n",
            "Graph is a burl, minimum expectancy: 1.0\n",
            "Graph is a burl, minimum expectancy: 0.666666667\n",
            "Graph is a burl, minimum expectancy: 0.333333333\n",
            "Graph is a burl, minimum expectancy: 0.666666667\n",
            "Graph is a burl, minimum expectancy: 1.0\n",
            "Graph is a burl, minimum expectancy: 0.666666667\n",
            "Graph is a burl, minimum expectancy: 0.666666667\n",
            "Graph is a burl, minimum expectancy: 0.333333333\n",
            "Graph is a burl, minimum expectancy: 0.666666667\n",
            "Graph is a burl, minimum expectancy: 0.666666667\n",
            "Graph is a burl, minimum expectancy: 0.666666667\n",
            "Graph is a burl, minimum expectancy: 0.666666667\n",
            "Graph is a burl, minimum expectancy: 0.666666667\n",
            "Graph is a burl, minimum expectancy: 0.666666667\n",
            "Graph is a burl, minimum expectancy: 0.666666667\n",
            "Graph is a burl, minimum expectancy: 0.333333333\n",
            "Graph is a burl, minimum expectancy: 0.666666667\n",
            "Graph is a burl, minimum expectancy: 1.0\n",
            "Graph is a burl, minimum expectancy: 0.666666667\n",
            "Graph is a burl, minimum expectancy: 0.666666667\n",
            "Graph is a burl, minimum expectancy: 0.666666667\n",
            "Graph is a burl, minimum expectancy: 0.666666667\n",
            "Graph is a burl, minimum expectancy: 0.666666667\n",
            "Graph is a burl, minimum expectancy: 0.333333333\n",
            "Graph is a burl, minimum expectancy: 0.666666667\n",
            "Graph is a burl, minimum expectancy: 0.333333333\n",
            "Graph is a burl, minimum expectancy: 0.666666667\n",
            "Graph is a burl, minimum expectancy: 0.666666667\n",
            "Graph is a burl, minimum expectancy: 0.666666667\n",
            "Graph is a burl, minimum expectancy: 0.666666667\n",
            "\n",
            "Paths of lenth 5 with vertices on both ends such that hub of G at those vertices is isomorphic to K4\n",
            "Graph is a burl, minimum expectancy: 0.333333333\n",
            "Graph is a burl, minimum expectancy: 0.333333333\n",
            "Graph is a burl, minimum expectancy: 0.666666667\n",
            "Graph is a burl, minimum expectancy: 0.333333333\n",
            "Graph is a burl, minimum expectancy: 0.666666667\n",
            "Graph is a burl, minimum expectancy: 0.333333333\n",
            "Graph is a burl, minimum expectancy: 0.666666667\n",
            "Graph is a burl, minimum expectancy: 0.333333333\n",
            "Graph is a burl, minimum expectancy: 0.333333333\n",
            "Graph is a burl, minimum expectancy: 0.333333333\n",
            "Graph is a burl, minimum expectancy: 0.666666667\n",
            "Graph is a burl, minimum expectancy: 0.333333333\n",
            "Graph is a burl, minimum expectancy: 0.333333333\n",
            "Graph is a burl, minimum expectancy: 0.666666667\n",
            "Graph is a burl, minimum expectancy: 0.333333333\n",
            "Graph is a burl, minimum expectancy: 0.666666667\n",
            "Graph is a burl, minimum expectancy: 0.666666667\n",
            "Graph is a burl, minimum expectancy: 0.666666667\n",
            "\n",
            "Paths of lenth 4 with vertices on both ends such that hub of G at those vertices is isomorphic to K4\n",
            "Graph is a burl, minimum expectancy: 0.333333333\n",
            "Graph is a burl, minimum expectancy: 0.333333333\n",
            "Graph is not a burl, minimum expectancy: 0.0\n",
            "Graph:\n",
            " {0: {1, 2, -1}, 1: {0, 2, -4}, 2: {0, 1, 3}, 3: {2, 4, 5}, 4: {3, 5, -2}, 5: {3, 4, -5}} \n",
            "\n",
            "Graph is a burl, minimum expectancy: 0.333333333\n",
            "Graph is a burl, minimum expectancy: 0.333333333\n",
            "Graph is a burl, minimum expectancy: 0.333333333\n",
            "Graph is a burl, minimum expectancy: 0.333333333\n",
            "Graph is a burl, minimum expectancy: 0.333333333\n",
            "Graph is a burl, minimum expectancy: 0.333333333\n"
          ]
        }
      ]
    },
    {
      "cell_type": "code",
      "source": [
        "for path in non_burl_paths_of_length_5:\n",
        "    graph = add_empty_ends_left(add_k4_right(path_to_graph(path)))\n",
        "    is_cubic(graph)\n",
        "    is_burl(graph)\n",
        "\n",
        "    graph = add_empty_ends_right(add_k4_left(path_to_graph(path)))\n",
        "    is_cubic(graph)\n",
        "    is_burl(graph)\n",
        "\n",
        "    for graph in add_b3_left(path_to_graph(path)):\n",
        "        graph = add_empty_ends_right(graph)\n",
        "        is_cubic(graph)\n",
        "        if not is_burl(graph):\n",
        "            print(graph)\n",
        "\n",
        "    for graph in add_b3_right(path_to_graph(path)):\n",
        "        graph = add_empty_ends_left(graph)\n",
        "        is_cubic(graph)\n",
        "        if not is_burl(graph):\n",
        "            print(graph)"
      ],
      "metadata": {
        "colab": {
          "base_uri": "https://localhost:8080/"
        },
        "id": "QC276tIOwuwG",
        "outputId": "213bb68a-b670-4c51-ecbe-4acd77c643fc"
      },
      "execution_count": 31,
      "outputs": [
        {
          "output_type": "stream",
          "name": "stdout",
          "text": [
            "Graph is a burl, minimum expectancy: 0.666666667\n",
            "Graph is a burl, minimum expectancy: 0.666666667\n",
            "Graph is a burl, minimum expectancy: 0.333333333\n",
            "Graph is a burl, minimum expectancy: 0.333333333\n",
            "Graph is a burl, minimum expectancy: 0.333333333\n",
            "Graph is a burl, minimum expectancy: 0.333333333\n",
            "Graph is a burl, minimum expectancy: 0.333333333\n",
            "Graph is a burl, minimum expectancy: 0.333333333\n",
            "Graph is a burl, minimum expectancy: 0.666666667\n",
            "Graph is a burl, minimum expectancy: 0.333333333\n",
            "Graph is a burl, minimum expectancy: 0.333333333\n",
            "Graph is a burl, minimum expectancy: 0.333333333\n",
            "Graph is a burl, minimum expectancy: 0.333333333\n",
            "Graph is a burl, minimum expectancy: 0.5\n",
            "Graph is a burl, minimum expectancy: 0.666666667\n",
            "Graph is a burl, minimum expectancy: 0.333333333\n",
            "Graph is a burl, minimum expectancy: 0.333333333\n",
            "Graph is a burl, minimum expectancy: 0.666666667\n",
            "Graph is a burl, minimum expectancy: 0.333333333\n",
            "Graph is a burl, minimum expectancy: 0.333333333\n",
            "Graph is a burl, minimum expectancy: 0.666666667\n",
            "Graph is a burl, minimum expectancy: 0.333333333\n",
            "Graph is a burl, minimum expectancy: 0.666666667\n",
            "Graph is a burl, minimum expectancy: 0.333333333\n",
            "Graph is a burl, minimum expectancy: 0.666666667\n",
            "Graph is a burl, minimum expectancy: 0.666666667\n",
            "Graph is a burl, minimum expectancy: 0.666666667\n",
            "Graph is a burl, minimum expectancy: 0.333333333\n",
            "Graph is a burl, minimum expectancy: 0.333333333\n",
            "Graph is a burl, minimum expectancy: 0.333333333\n",
            "Graph is a burl, minimum expectancy: 0.333333333\n",
            "Graph is a burl, minimum expectancy: 0.666666667\n",
            "Graph is a burl, minimum expectancy: 0.666666667\n",
            "Graph is a burl, minimum expectancy: 0.333333333\n",
            "Graph is a burl, minimum expectancy: 0.666666667\n",
            "Graph is a burl, minimum expectancy: 0.333333333\n",
            "Graph is a burl, minimum expectancy: 0.333333333\n",
            "Graph is a burl, minimum expectancy: 0.333333333\n",
            "Graph is a burl, minimum expectancy: 0.666666667\n",
            "Graph is a burl, minimum expectancy: 0.333333333\n",
            "Graph is a burl, minimum expectancy: 0.333333333\n",
            "Graph is a burl, minimum expectancy: 0.666666667\n",
            "Graph is a burl, minimum expectancy: 0.333333333\n",
            "Graph is a burl, minimum expectancy: 0.333333333\n",
            "Graph is a burl, minimum expectancy: 0.666666667\n",
            "Graph is a burl, minimum expectancy: 0.666666667\n",
            "Graph is a burl, minimum expectancy: 0.333333333\n",
            "Graph is a burl, minimum expectancy: 0.666666667\n",
            "Graph is a burl, minimum expectancy: 0.333333333\n",
            "Graph is a burl, minimum expectancy: 0.333333333\n",
            "Graph is not a burl, minimum expectancy: 0.0\n",
            "{0: {1, 2, -1}, 1: {0, 2, 5}, 2: {0, 1, 3}, 3: {2, 4, 7}, 4: {3, 6, -2}, 5: {1, 9, 6}, 6: {8, 4, 5}, 7: {8, 10, 3}, 8: {-8, 6, 7}, 9: {10, 5, -9}, 10: {9, -10, 7}}\n",
            "Graph is a burl, minimum expectancy: 0.333333333\n",
            "Graph is a burl, minimum expectancy: 0.666666667\n",
            "Graph is a burl, minimum expectancy: 0.333333333\n",
            "Graph is a burl, minimum expectancy: 0.666666667\n",
            "Graph is a burl, minimum expectancy: 0.333333333\n"
          ]
        }
      ]
    },
    {
      "cell_type": "code",
      "source": [
        "for path in non_burl_paths_of_length_6:\n",
        "    graph = add_empty_ends_left(add_k4_right(path_to_graph(path)))\n",
        "    is_cubic(graph)\n",
        "    is_burl(graph)\n",
        "\n",
        "    graph = add_empty_ends_right(add_k4_left(path_to_graph(path)))\n",
        "    is_cubic(graph)\n",
        "    is_burl(graph)\n",
        "\n",
        "    for graph in add_b3_left(path_to_graph(path)):\n",
        "        graph = add_empty_ends_right(graph)\n",
        "        is_cubic(graph)\n",
        "        if not is_burl(graph):\n",
        "            print(graph)\n",
        "\n",
        "    for graph in add_b3_right(path_to_graph(path)):\n",
        "        graph = add_empty_ends_left(graph)\n",
        "        is_cubic(graph)\n",
        "        if not is_burl(graph):\n",
        "            print(graph)"
      ],
      "metadata": {
        "colab": {
          "base_uri": "https://localhost:8080/"
        },
        "id": "SdNVZt4Qzdme",
        "outputId": "1549aa0f-3572-451d-c831-4473e5aee615"
      },
      "execution_count": 32,
      "outputs": [
        {
          "output_type": "stream",
          "name": "stdout",
          "text": [
            "Graph is a burl, minimum expectancy: 0.666666667\n",
            "Graph is a burl, minimum expectancy: 0.666666667\n",
            "Graph is a burl, minimum expectancy: 0.333333333\n",
            "Graph is a burl, minimum expectancy: 0.666666667\n",
            "Graph is a burl, minimum expectancy: 0.333333333\n",
            "Graph is a burl, minimum expectancy: 0.666666667\n",
            "Graph is a burl, minimum expectancy: 0.666666667\n",
            "Graph is a burl, minimum expectancy: 0.333333333\n",
            "Graph is a burl, minimum expectancy: 0.666666667\n",
            "Graph is a burl, minimum expectancy: 0.333333333\n",
            "Graph is a burl, minimum expectancy: 0.333333333\n",
            "Graph is a burl, minimum expectancy: 0.333333333\n",
            "Graph is a burl, minimum expectancy: 0.666666667\n",
            "Graph is a burl, minimum expectancy: 0.666666667\n",
            "Graph is a burl, minimum expectancy: 0.666666667\n",
            "Graph is a burl, minimum expectancy: 0.666666667\n",
            "Graph is a burl, minimum expectancy: 0.777777778\n",
            "Graph is a burl, minimum expectancy: 0.666666667\n",
            "Graph is a burl, minimum expectancy: 0.333333333\n",
            "Graph is a burl, minimum expectancy: 0.666666667\n",
            "Graph is a burl, minimum expectancy: 0.333333333\n",
            "Graph is a burl, minimum expectancy: 0.666666667\n",
            "Graph is a burl, minimum expectancy: 0.666666667\n",
            "Graph is a burl, minimum expectancy: 0.666666667\n",
            "Graph is a burl, minimum expectancy: 0.333333333\n",
            "Graph is a burl, minimum expectancy: 0.666666667\n",
            "Graph is a burl, minimum expectancy: 0.333333333\n",
            "Graph is a burl, minimum expectancy: 0.666666667\n",
            "Graph is a burl, minimum expectancy: 0.666666667\n",
            "Graph is a burl, minimum expectancy: 0.666666667\n",
            "Graph is a burl, minimum expectancy: 0.555555556\n",
            "Graph is a burl, minimum expectancy: 0.666666667\n",
            "Graph is a burl, minimum expectancy: 0.666666667\n",
            "Graph is a burl, minimum expectancy: 0.777777778\n",
            "Graph is a burl, minimum expectancy: 0.666666667\n",
            "Graph is a burl, minimum expectancy: 0.666666667\n",
            "Graph is a burl, minimum expectancy: 0.666666667\n",
            "Graph is a burl, minimum expectancy: 0.333333333\n",
            "Graph is a burl, minimum expectancy: 0.666666667\n",
            "Graph is a burl, minimum expectancy: 0.333333333\n",
            "Graph is a burl, minimum expectancy: 0.666666667\n",
            "Graph is a burl, minimum expectancy: 0.666666667\n",
            "Graph is a burl, minimum expectancy: 0.666666667\n",
            "Graph is a burl, minimum expectancy: 0.666666667\n",
            "Graph is a burl, minimum expectancy: 0.666666667\n",
            "Graph is a burl, minimum expectancy: 0.666666667\n",
            "Graph is a burl, minimum expectancy: 0.666666667\n",
            "Graph is a burl, minimum expectancy: 0.666666667\n",
            "Graph is a burl, minimum expectancy: 0.333333333\n",
            "Graph is a burl, minimum expectancy: 0.666666667\n",
            "Graph is a burl, minimum expectancy: 0.333333333\n",
            "Graph is a burl, minimum expectancy: 0.333333333\n",
            "Graph is a burl, minimum expectancy: 0.666666667\n",
            "Graph is a burl, minimum expectancy: 0.333333333\n",
            "Graph is a burl, minimum expectancy: 1.0\n",
            "Graph is a burl, minimum expectancy: 0.333333333\n",
            "Graph is a burl, minimum expectancy: 0.666666667\n",
            "Graph is a burl, minimum expectancy: 0.333333333\n",
            "Graph is a burl, minimum expectancy: 0.333333333\n",
            "Graph is a burl, minimum expectancy: 0.333333333\n",
            "Graph is a burl, minimum expectancy: 0.666666667\n",
            "Graph is a burl, minimum expectancy: 0.666666667\n",
            "Graph is a burl, minimum expectancy: 0.5\n",
            "Graph is a burl, minimum expectancy: 0.333333333\n",
            "Graph is a burl, minimum expectancy: 0.666666667\n",
            "Graph is a burl, minimum expectancy: 0.666666667\n",
            "Graph is a burl, minimum expectancy: 0.333333333\n",
            "Graph is a burl, minimum expectancy: 0.333333333\n",
            "Graph is a burl, minimum expectancy: 0.666666667\n",
            "Graph is a burl, minimum expectancy: 1.0\n",
            "Graph is a burl, minimum expectancy: 0.333333333\n",
            "Graph is a burl, minimum expectancy: 0.333333333\n"
          ]
        }
      ]
    }
  ]
}
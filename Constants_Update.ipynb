{
  "nbformat": 4,
  "nbformat_minor": 0,
  "metadata": {
    "colab": {
      "provenance": []
    },
    "kernelspec": {
      "name": "python3",
      "display_name": "Python 3"
    },
    "language_info": {
      "name": "python"
    }
  },
  "cells": [
    {
      "cell_type": "code",
      "execution_count": 1,
      "metadata": {
        "colab": {
          "base_uri": "https://localhost:8080/"
        },
        "id": "Zih4GGJK1VMs",
        "outputId": "e630537b-9921-44a2-dc16-16b37dea97e3"
      },
      "outputs": [
        {
          "output_type": "stream",
          "name": "stdout",
          "text": [
            "Requirement already satisfied: scipy in /usr/local/lib/python3.10/dist-packages (1.12.0)\n",
            "Requirement already satisfied: numpy<1.29.0,>=1.22.4 in /usr/local/lib/python3.10/dist-packages (from scipy) (1.25.2)\n",
            "Requirement already satisfied: scipy in /usr/local/lib/python3.10/dist-packages (1.12.0)\n",
            "Requirement already satisfied: numpy<1.29.0,>=1.22.4 in /usr/local/lib/python3.10/dist-packages (from scipy) (1.25.2)\n"
          ]
        }
      ],
      "source": [
        "!pip install scipy\n",
        "!pip install --upgrade scipy"
      ]
    },
    {
      "cell_type": "code",
      "source": [
        "from scipy.optimize import linprog\n",
        "\n",
        "import numpy as np\n",
        "from IPython.display import clear_output"
      ],
      "metadata": {
        "id": "Jkj8Mdd61XhN"
      },
      "execution_count": 2,
      "outputs": []
    },
    {
      "cell_type": "code",
      "source": [
        "bounds = [(0, None), (0, None), (0, None), (None, None)]\n",
        "\n",
        "initial_const = 3656\n",
        "\n",
        "ub1 = np.log(6)/np.log(2)\n",
        "ub2 = np.log(4/3)/np.log(2)"
      ],
      "metadata": {
        "id": "9INuJ-zLiaJM"
      },
      "execution_count": 3,
      "outputs": []
    },
    {
      "cell_type": "code",
      "source": [
        "Results = []\n",
        "\n",
        "const = initial_const\n",
        "\n",
        "while const >= 0:\n",
        "    A_ub = [[1, -1, 0, 0],\n",
        "            [1, 0, -1, 0],\n",
        "            [0, -1, 1, 0],\n",
        "            [6, -1, 1, 0],\n",
        "            [37, 0, -1, 0],\n",
        "            [72, -1, 0, 0],\n",
        "            [43, -1, 1, 0],\n",
        "            [6, 0, 0, 1],\n",
        "            [7, 2, -1, 1],\n",
        "            [6, 2, 0, 0],\n",
        "            [4, 2, 0, -1],\n",
        "            [-const, 9, 0, 0]]\n",
        "\n",
        "    b_ub = [0, 0, 0, 0, 0, 0, 0, ub1, 1, ub2, 0, -3]\n",
        "\n",
        "    c = np.zeros(4)\n",
        "\n",
        "    res = linprog(c, A_ub=A_ub, b_ub=b_ub, bounds=bounds)\n",
        "    if res.success:\n",
        "        Results.append([const, res.x])\n",
        "\n",
        "    else: break\n",
        "    clear_output(True)\n",
        "    const -= 1"
      ],
      "metadata": {
        "id": "iHarBXV3rGgG"
      },
      "execution_count": 4,
      "outputs": []
    },
    {
      "cell_type": "code",
      "source": [
        "print(\"New minimal const:\", Results[-1][0])"
      ],
      "metadata": {
        "colab": {
          "base_uri": "https://localhost:8080/"
        },
        "id": "4IDPY9whwrpP",
        "outputId": "2119a6a4-ab01-413f-fc48-d2bc643b30d9"
      },
      "execution_count": 5,
      "outputs": [
        {
          "output_type": "stream",
          "name": "stdout",
          "text": [
            "New minimal const: 1920\n"
          ]
        }
      ]
    },
    {
      "cell_type": "code",
      "source": [
        "#Checking that found values for alpha, beta_1, beta_2, and gamma satisfy conditions\n",
        "\n",
        "values = Results[-1][1]\n",
        "\n",
        "alpha = values[0]\n",
        "beta_1 = values[1]\n",
        "beta_2 = values[2]\n",
        "gamma = values[3]\n",
        "\n",
        "assert(alpha > 0)\n",
        "assert(beta_1 > 0)\n",
        "assert(beta_2 > 0)\n",
        "assert(gamma > 0)\n",
        "\n",
        "assert(alpha / (9 * beta_1 + 3) >= 1/1920)\n",
        "\n",
        "assert(beta_2 + 6 * alpha <= beta_1)\n",
        "assert(37 * alpha <= beta_2)\n",
        "assert(72 * alpha <= beta_1)\n",
        "assert(beta_2 + 43 * alpha <= beta_1)\n",
        "\n",
        "assert(6 * alpha + gamma <= ub1)\n",
        "assert(gamma + 2 * beta_1 + 7 * alpha - beta_2 <= 1)\n",
        "assert(6*alpha + 2 * beta_1 <= ub2)\n",
        "assert(2 * beta_1 + 4 * alpha <= gamma)"
      ],
      "metadata": {
        "id": "fxPzzLYX3yOU"
      },
      "execution_count": 6,
      "outputs": []
    }
  ]
}